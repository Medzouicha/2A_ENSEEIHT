{
 "cells": [
  {
   "cell_type": "markdown",
   "metadata": {},
   "source": [
    "<center>\n",
    "<h1> TP-Projet d'optimisation numérique </h1>\n",
    "<h1> Algorithme du lagrangien augmenté </h1>\n",
    "</center>"
   ]
  },
  {
   "cell_type": "markdown",
   "metadata": {},
   "source": [
    "## Implémentation\n",
    "\n",
    "1. Implémenter l'algorithme du lagrangien augmenté, en utilisant les différentes méthodes\n",
    "qui ont été vues en première partie pour la résolution de la suite de problèmes sans\n",
    "contraintes (fichier `src/lagrangien_augmente.jl`). La spécification est donnée dans le fichier.\n",
    "2. Vérifier que les tests ci-dessous passent.\n",
    " "
   ]
  },
  {
   "cell_type": "code",
   "execution_count": 1,
   "metadata": {},
   "outputs": [
    {
     "name": "stdout",
     "output_type": "stream",
     "text": [
      "Affichage des résultats des algorithmes : true\n",
      "\n"
     ]
    },
    {
     "name": "stdout",
     "output_type": "stream",
     "text": [
      "-------------------------------------------------------------------------\n"
     ]
    },
    {
     "name": "stdout",
     "output_type": "stream",
     "text": [
      "\u001b[34m\u001b[1mRésultats de : LA et newton appliqué à f1:\u001b[22m\u001b[39m\n",
      "  * x0       = "
     ]
    },
    {
     "name": "stdout",
     "output_type": "stream",
     "text": [
      "[0, 1, 1]\n",
      "  * x_sol    = "
     ]
    },
    {
     "name": "stdout",
     "output_type": "stream",
     "text": [
      "[0.5000042424566808, 1.2499978787716595, 0.5000042424566811]\n",
      "  * f(x_sol) = 2.249961818051857\n",
      "  * nb_iters = 7\n",
      "  * flag     = 1\n",
      "  * solution = [0.5, 1.25, 0.5]\n"
     ]
    },
    {
     "name": "stdout",
     "output_type": "stream",
     "text": [
      "-------------------------------------------------------------------------\n",
      "\u001b[34m\u001b[1mRésultats de : LA et newton appliqué à f1:\u001b[22m\u001b[39m\n",
      "  * x0       = [0.5, 1.25, 1.0]\n",
      "  * x_sol    = [0.5000042424566808, 1.2499978787716595, 0.5000042424566811]\n",
      "  * f(x_sol) = 2.249961818051857\n",
      "  * nb_iters = 7\n",
      "  * flag     = 1\n",
      "  * solution = [0.5, 1.25, 0.5]\n"
     ]
    },
    {
     "name": "stdout",
     "output_type": "stream",
     "text": [
      "-------------------------------------------------------------------------\n",
      "\u001b[34m\u001b[1mRésultats de : LA et newton appliqué à f2:\u001b[22m\u001b[39m\n",
      "  * x0       = [1, 0]\n",
      "  * x_sol    = [0.9072338859288741, 0.8227553207255176]\n",
      "  * f(x_sol) = 0.008615664513970852\n",
      "  * nb_iters = 5\n",
      "  * flag     = 0\n",
      "  * solution = [0.9072339605110892, 0.82275545631455]\n",
      "-------------------------------------------------------------------------\n",
      "\u001b[34m\u001b[1mRésultats de : LA et newton appliqué à f2:\u001b[22m\u001b[39m\n",
      "  * x0       = [0.8660254037844386, 0.8660254037844386]\n",
      "  * x_sol    = [0.9072338859288741, 0.8227553207255176]\n",
      "  * f(x_sol) = 0.008615664513970852\n",
      "  * nb_iters = 5\n",
      "  * flag     = 0\n",
      "  * solution = [0.9072339605110892, 0.82275545631455]\n",
      "-------------------------------------------------------------------------"
     ]
    },
    {
     "name": "stdout",
     "output_type": "stream",
     "text": [
      "\n",
      "\u001b[34m\u001b[1mRésultats de : LA et rc-cauchy appliqué à f1:\u001b[22m\u001b[39m\n",
      "  * x0       = [0, 1, 1]\n",
      "  * x_sol    = [0.4999984283105239, 1.2499977579670585, 0.5000110526007575]\n",
      "  * f(x_sol) = 2.249957336181233\n",
      "  * nb_iters = 7\n",
      "  * flag     = 1\n",
      "  * solution = [0.5, 1.25, 0.5]\n",
      "-------------------------------------------------------------------------\n",
      "\u001b[34m\u001b[1mRésultats de : LA et rc-cauchy appliqué à f1:\u001b[22m\u001b[39m\n",
      "  * x0       = [0.5, 1.25, 1.0]\n",
      "  * x_sol    = [0.4999974582288769, 1.2499978099023197, 0.5000120255113009]\n",
      "  * f(x_sol) = 2.2499573234778016\n",
      "  * nb_iters = 7\n",
      "  * flag     = 1\n",
      "  * solution = [0.5, 1.25, 0.5]\n"
     ]
    },
    {
     "name": "stdout",
     "output_type": "stream",
     "text": [
      "-------------------------------------------------------------------------\n",
      "\u001b[34m\u001b[1mRésultats de : LA et rc-cauchy appliqué à f2:\u001b[22m\u001b[39m\n",
      "  * x0       = [1, 0]\n",
      "  * x_sol    = [0.9072338606144752, 0.8227552746358795]\n",
      "  * f(x_sol) = 0.008615669220624015\n",
      "  * nb_iters = 5\n",
      "  * flag     = 0\n",
      "  * solution = [0.9072339605110892, 0.82275545631455]\n",
      "-------------------------------------------------------------------------\n",
      "\u001b[34m\u001b[1mRésultats de : LA et rc-cauchy appliqué à f2:\u001b[22m\u001b[39m\n",
      "  * x0       = [0.8660254037844386, 0.8660254037844386]\n",
      "  * x_sol    = [0.9072338606144758, 0.8227552746358805]\n",
      "  * f(x_sol) = 0.008615669220623913\n",
      "  * nb_iters = 5\n",
      "  * flag     = 0\n",
      "  * solution = [0.9072339605110892, 0.82275545631455]\n",
      "-------------------------------------------------------------------------"
     ]
    },
    {
     "name": "stdout",
     "output_type": "stream",
     "text": [
      "\n",
      "\u001b[34m\u001b[1mRésultats de : LA et rc-gct appliqué à f1:\u001b[22m\u001b[39m\n",
      "  * x0       = [0, 1, 1]\n",
      "  * x_sol    = [0.500004242456681, 1.2499978787716595, 0.500004242456681]\n",
      "  * f(x_sol) = 2.2499618180518564\n",
      "  * nb_iters = 7\n",
      "  * flag     = 1\n",
      "  * solution = [0.5, 1.25, 0.5]\n",
      "-------------------------------------------------------------------------\n",
      "\u001b[34m\u001b[1mRésultats de : LA et rc-gct appliqué à f1:\u001b[22m\u001b[39m\n",
      "  * x0       = [0.5, 1.25, 1.0]\n",
      "  * x_sol    = [0.500004242456681, 1.2499978787716595, 0.500004242456681]\n",
      "  * f(x_sol) = 2.2499618180518564\n",
      "  * nb_iters = 7\n",
      "  * flag     = 1\n",
      "  * solution = [0.5, 1.25, 0.5]\n",
      "-------------------------------------------------------------------------\n",
      "\u001b[34m\u001b[1mRésultats de : LA et rc-gct appliqué à f2:\u001b[22m\u001b[39m\n",
      "  * x0       = [1, 0]\n",
      "  * x_sol    = [0.9072338859288741, 0.8227553207255176]\n",
      "  * f(x_sol) = 0.008615664513970852\n",
      "  * nb_iters = 5\n",
      "  * flag     = 0\n",
      "  * solution = [0.9072339605110892, 0.82275545631455]\n",
      "-------------------------------------------------------------------------\n",
      "\u001b[34m\u001b[1mRésultats de : LA et rc-gct appliqué à f2:\u001b[22m\u001b[39m\n",
      "  * x0       = [0.8660254037844386, 0.8660254037844386]\n",
      "  * x_sol    = [0.9072338859288741, 0.8227553207255176]\n",
      "  * f(x_sol) = 0.008615664513970852\n",
      "  * nb_iters = 5\n",
      "  * flag     = 0\n",
      "  * solution = [0.9072339605110892, 0.82275545631455]\n",
      "\u001b[0m\u001b[1mTest Summary:         | \u001b[22m\u001b[32m\u001b[1mPass  \u001b[22m\u001b[39m\u001b[36m\u001b[1mTotal  \u001b[22m\u001b[39m\u001b[0m\u001b[1mTime\u001b[22m\n",
      "Lagrangien augmenté   | \u001b[32m  12  \u001b[39m\u001b[36m   12  \u001b[39m\u001b[0m8.1s\n"
     ]
    }
   ],
   "source": [
    "include(\"../src/Lagrangien_Augmente.jl\")\n",
    "include(\"../test/tester_lagrangien_augmente.jl\")\n",
    "\n",
    "#\n",
    "afficher = true \n",
    " # si true, alors affiche les résultats des algorithmes\n",
    "\n",
    "#\n",
    "tester_lagrangien_augmente(lagrangien_augmente, afficher);"
   ]
  },
  {
   "cell_type": "markdown",
   "metadata": {},
   "source": [
    "## Interprétation\n",
    "\n",
    " 1. Commenter les résultats obtenus, en étudiant notamment les valeurs en sortie de $\\lambda_k$ et $\\mu_k$.\n",
    " 2. Étudier l'influence du paramètre $\\tau$ dans la performance de l'algorithme. Pour cela Vous réaliserez des tests numériques."
   ]
  },
  {
   "cell_type": "code",
   "execution_count": 4,
   "metadata": {},
   "outputs": [
    {
     "name": "stdout",
     "output_type": "stream",
     "text": [
      "L'influence de mu : "
     ]
    },
    {
     "name": "stdout",
     "output_type": "stream",
     "text": [
      "-------------------------------------------------------------------------\n",
      "\u001b[34m\u001b[1mRésultats de : Lagrangien_Augmente_gct appliqué à f1 au point initial [0, -1, 1]:\u001b[22m\u001b[39m\n",
      "  * xsol = [0, -1, 1]\n",
      "  * f(xsol) = 23\n",
      "  * nb_iters = 1\n",
      "  * flag = 1\n",
      "  * sol_exacte : [0.5, 1.25, 0.5]\n",
      "les valeurs de lambda : [2, 2]\n",
      " les valeurs de mu : [10, 10]-------------------------------------------------------------------------"
     ]
    },
    {
     "name": "stdout",
     "output_type": "stream",
     "text": [
      "\n",
      "\u001b[34m\u001b[1mRésultats de : Lagrangien_Augmente_gct appliqué à f1 au point initial [0, -1, 1]:\u001b[22m\u001b[39m\n",
      "  * xsol = [0, -1, 1]\n",
      "  * f(xsol) = 23\n",
      "  * nb_iters = 1\n",
      "  * flag = 1\n",
      "  * sol_exacte : [0.5, 1.25, 0.5]\n",
      "les valeurs de lambda : [2, 2]\n",
      " les valeurs de mu : \n",
      "[10, 10]\n",
      " L'influence de lambda : -------------------------------------------------------------------------\n",
      "\u001b[34m\u001b[1mRésultats de : Lagrangien_Augmente_gct appliqué à f1 au point initial [0, -1, 1]:\u001b[22m\u001b[39m\n",
      "  * xsol = [0, -1, 1]\n",
      "  * f(xsol) = 23\n",
      "  * nb_iters = 1\n",
      "  * flag = 1\n",
      "  * sol_exacte : [0.5, 1.25, 0.5]\n",
      "les valeurs de lambda : [2, 2]\n",
      " les valeurs de mu : \n",
      "[10, 10]-------------------------------------------------------------------------\n",
      "\u001b[34m\u001b[1mRésultats de : Lagrangien_Augmente_gct appliqué à f1 au point initial [0, -1, 1]:\u001b[22m\u001b[39m\n",
      "  * xsol = [0, -1, 1]\n",
      "  * f(xsol) = 23\n",
      "  * nb_iters = 1\n",
      "  * flag = 1\n",
      "  * sol_exacte : [0.5, 1.25, 0.5]\n",
      "les valeurs de lambda : [2, 2]\n",
      " les valeurs de mu : \n",
      "["
     ]
    },
    {
     "name": "stdout",
     "output_type": "stream",
     "text": [
      "10, 10]\n",
      " L'influence de tho : -------------------------------------------------------------------------\n",
      "\u001b[34m\u001b[1mRésultats de : Lagrangien_Augmente_gct appliqué à f1 au point initial [0, -1, 1]:\u001b[22m\u001b[39m\n",
      "  * xsol = [0, -1, 1]\n",
      "  * f(xsol) = 23\n",
      "  * nb_iters = 1\n",
      "  * flag = 1\n",
      "  * sol_exacte : [0.5, 1.25, 0.5]\n",
      "-------------------------------------------------------------------------\n",
      "\u001b[34m\u001b[1mRésultats de : Lagrangien_Augmente_gct appliqué à f1 au point initial [0, -1, 1]:\u001b[22m\u001b[39m\n",
      "  * xsol = [0, -1, 1]\n",
      "  * f(xsol) = 23\n",
      "  * nb_iters = 1\n",
      "  * flag = 1\n",
      "  * sol_exacte : [0.5, 1.25, 0.5]\n"
     ]
    }
   ],
   "source": [
    "using LinearAlgebra\n",
    "using Markdown                             # Pour que les docstrings en début des fonctions ne posent\n",
    "                                           # pas de soucis. Ces docstrings sont utiles pour générer \n",
    "                                           # la documentation sous GitHub\n",
    "include(\"../src/Lagrangien_Augmente.jl\")\n",
    "include(\"../src/Regions_De_Confiance.jl\")\n",
    "include(\"../src/cauchy.jl\")\n",
    "include(\"../src/gct.jl\")\n",
    "\n",
    "# Affichage les sorties de l'algorithme des Régions de confiance\n",
    "function afficher_resultats_langrangien(algo,nom_fct,point_init,xmin,fxmin,flag,sol_exacte,nbiters)\n",
    "\tprintln(\"-------------------------------------------------------------------------\")\n",
    "\tprintstyled(\"Résultats de : \",algo, \" appliqué à \",nom_fct, \" au point initial \", point_init, \":\\n\",bold=true,color=:blue)\n",
    "\tprintln(\"  * xsol = \",xmin)\n",
    "\tprintln(\"  * f(xsol) = \",fxmin)\n",
    "\tprintln(\"  * nb_iters = \",nbiters)\n",
    "\tprintln(\"  * flag = \",flag)\n",
    "\tprintln(\"  * sol_exacte : \", sol_exacte)\n",
    "end\n",
    "\n",
    "fct1(x) =  2*(x[1]+x[2]+x[3]-3)^2 + (x[1]-x[2])^2 + (x[2]-x[3])^2\n",
    "grad_fct1(x) = [4*(x[1]+x[2]+x[3]−3)+2*(x[1]−x[2]);4*(x[1]+x[2]+x[3]−3)-2*(x[1]−x[2])+2*(x[2]−x[3]);4*(x[1]+x[2]+x[3]−3)-2*(x[2]−x[3])]\n",
    "hess_fct1(x) = [6 2 4;2 8 2;4 2 6]\n",
    "contrainte1(x) =  x[1]+x[3]-1\n",
    "grad_contrainte1(x) = [1 ;0; 1]\n",
    "hess_contrainte1(x) = [0 0 0;0 0 0;0 0 0]\n",
    "x0 = [0; -1; 1]\n",
    "sol_exacte = [0.5 ; 1.25 ; 0.5]\n",
    "\n",
    "\n",
    "    # Influence de mu\n",
    "    print(\"L'influence de mu : \")\n",
    "\n",
    "    xmin, f_min, flag, nb_iters, muks, lambdaks = lagrangien_augmente(fct1, grad_fct1,hess_fct1, contrainte1, grad_contrainte1, hess_contrainte1, x0,algo_noc = \"cauchy\")\n",
    "    afficher_resultats_langrangien(\"Lagrangien_Augmente_gct\", \"f1\", x0, xmin, f_min, flag, sol_exacte, nb_iters)\n",
    "    print(\"les valeurs de lambda : \")\n",
    "    print(lambdaks)\n",
    "    print(\"\\n les valeurs de mu : \")\n",
    "    print(muks)\n",
    "\n",
    "    xmin, f_min, flag, nb_iters, muks, lambdaks = lagrangien_augmente(fct1, grad_fct1,hess_fct1, contrainte1, grad_contrainte1, hess_contrainte1, x0,algo_noc = \"cauchy\")\n",
    "    afficher_resultats_langrangien(\"Lagrangien_Augmente_gct\", \"f1\", x0, xmin, f_min, flag, sol_exacte, nb_iters)\n",
    "    print(\"les valeurs de lambda : \")\n",
    "    print(lambdaks)\n",
    "    print(\"\\n les valeurs de mu : \\n\")\n",
    "    print(muks)\n",
    "    # Influence de lambda \n",
    "    print(\"\\n L'influence de lambda : \")\n",
    "    xmin, f_min, flag, nb_iters, muks, lambdaks = lagrangien_augmente(fct1, grad_fct1,hess_fct1, contrainte1, grad_contrainte1, hess_contrainte1, x0,algo_noc = \"gct\")\n",
    "    afficher_resultats_langrangien(\"Lagrangien_Augmente_gct\", \"f1\", x0, xmin, f_min, flag, sol_exacte, nb_iters)\n",
    "    print(\"les valeurs de lambda : \")\n",
    "    print(lambdaks)\n",
    "    print(\"\\n les valeurs de mu : \\n\")\n",
    "    print(muks)\n",
    "  \n",
    "    xmin, f_min, flag, nb_iters, muks, lambdaks = lagrangien_augmente(fct1, grad_fct1,hess_fct1, contrainte1, grad_contrainte1, hess_contrainte1, x0,algo_noc = \"gct\")\n",
    "    afficher_resultats_langrangien(\"Lagrangien_Augmente_gct\", \"f1\", x0, xmin, f_min, flag, sol_exacte, nb_iters)\n",
    "    print(\"les valeurs de lambda : \")\n",
    "    print(lambdaks)\n",
    "    print(\"\\n les valeurs de mu : \\n\")\n",
    "    print(muks)\n",
    "    # Influence de tho\n",
    "    print(\"\\n L'influence de tho : \")\n",
    "    xmin, f_min, flag, nb_iters= lagrangien_augmente(fct1, grad_fct1,hess_fct1, contrainte1, grad_contrainte1, hess_contrainte1, x0,algo_noc = \"cauchy\")\n",
    "    afficher_resultats_langrangien(\"Lagrangien_Augmente_gct\", \"f1\", x0, xmin, f_min, flag, sol_exacte, nb_iters)\n",
    "    xmin, f_min, flag, nb_iters=lagrangien_augmente(fct1, grad_fct1,hess_fct1, contrainte1, grad_contrainte1, hess_contrainte1, x0,algo_noc = \"gct\")\n",
    "    afficher_resultats_langrangien(\"Lagrangien_Augmente_gct\", \"f1\", x0, xmin, f_min, flag, sol_exacte, nb_iters)\n",
    " \n",
    "     \n",
    "\n",
    "\n",
    "     \n",
    "    "
   ]
  },
  {
   "cell_type": "markdown",
   "metadata": {},
   "source": [
    "### question 1 : Commenter les résultats obtenus, en étudiant notamment les valeurs en sortie de $\\lambda_k$ et $\\mu_k$.\n",
    "\n",
    "\n",
    "On constate que l'augmentation de $\\mu_k$ réduit le nombre d'itération, et permet de converger plus rapidement. Mais, cette approche reste moins performante par rapport aux approches précedentes qui assurent une convergence plus rapide. On remarque également que les valeurs de lambda et mu augmentent en sortie de l'algorithme, cela montre que la solution du problème sans contrainte ne satisfait pas les contraintes appliquées ce qui nous pousse pénaliser plusieurs fois afin de les respecter.\n",
    "\n",
    "\n"
   ]
  },
  {
   "cell_type": "markdown",
   "metadata": {},
   "source": [
    "## question 2 \n",
    "\n",
    "On remarque que lorsque $\\tau$ est tres faible, la méthode atteint son nombre maximal d'itération, ce qui est logique car dans ce cas, $\\mu_k$ et $\\lambda_k$ n'augmentent pas  ce qui ne permet pas d'évoluer sur la gestion de la contrainte dans l'algorithme et donc ne permet pas la résolution.\n",
    "On peut dire que l'augmentation de $\\tau$  améliore la convergence de l’algorithme. "
   ]
  }
 ],
 "metadata": {
  "kernelspec": {
   "display_name": "Julia 1.9.4",
   "language": "julia",
   "name": "julia-1.9"
  },
  "language_info": {
   "file_extension": ".jl",
   "mimetype": "application/julia",
   "name": "julia",
   "version": "1.9.4"
  }
 },
 "nbformat": 4,
 "nbformat_minor": 4
}
