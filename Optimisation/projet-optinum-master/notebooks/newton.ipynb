{
 "cells": [
  {
   "cell_type": "markdown",
   "metadata": {},
   "source": [
    "<center>\n",
    "<h1> TP-Projet d'optimisation numérique </h1>\n",
    "<h1> Algorithme de Newton </h1>\n",
    "</center>"
   ]
  },
  {
   "cell_type": "markdown",
   "metadata": {},
   "source": [
    "## Implémentation \n",
    " \n",
    "1. Coder l’algorithme de Newton dans le fichier `src/newton.jl` en respectant la spécification donnée dans ce même fichier ;\n",
    "2. Exécuter les tests ci-dessous et vérifier qu'ils passent.\n",
    "\n",
    "Pour les tests, nous avons défini les fonctions suivantes $f_1 \\colon \\mathbb{R}^3 \\to \\mathbb{R}$\n",
    "et $f_2 \\colon \\mathbb{R}^2 \\to \\mathbb{R}$.\n",
    "\n",
    "$$\n",
    "    f_{1}(x_1, x_2, x_3) = 2 (x_1 +x_2 + x_3 -3)^2 + (x_1-x_2)^2 + (x_2 - x_3)^2\n",
    "$$\n",
    "et\n",
    "$$\n",
    "    f_{2}(x_1,x_2) = 100(x_2-x_1^2)^2 + (1-x_1)^2.\n",
    "$$\n",
    "\n",
    "**Remarque.** On peut retrouver ces fonctions dans le fichier `test/fonctions_de_tests.jl`."
   ]
  },
  {
   "cell_type": "code",
   "execution_count": 2,
   "metadata": {},
   "outputs": [
    {
     "name": "stdout",
     "output_type": "stream",
     "text": [
      "Affichage des résultats des algorithmes : true\n",
      "\n"
     ]
    },
    {
     "name": "stdout",
     "output_type": "stream",
     "text": [
      "-------------------------------------------------------------------------\n",
      "\u001b[34m\u001b[1mRésultats de : newton appliqué à f1:\u001b[22m\u001b[39m\n",
      "  * x0       = "
     ]
    },
    {
     "name": "stdout",
     "output_type": "stream",
     "text": [
      "[1, 1, 1]\n",
      "  * x_sol    = [1, 1, 1]\n",
      "  * f(x_sol) = 0\n",
      "  * nb_iters = 0\n",
      "  * flag     = 0\n",
      "  * solution = [1, 1, 1]\n",
      "-------------------------------------------------------------------------\n",
      "\u001b[34m\u001b[1mRésultats de : newton appliqué à f1:\u001b[22m\u001b[39m\n",
      "  * x0       = [1, 0, 0]\n",
      "  * x_sol    = "
     ]
    },
    {
     "name": "stdout",
     "output_type": "stream",
     "text": [
      "[1.0, 1.0, 0.9999999999999999]\n",
      "  * f(x_sol) = 1.232595164407831e-32\n",
      "  * nb_iters = 1\n",
      "  * flag     = 0\n",
      "  * solution = [1, 1, 1]\n"
     ]
    },
    {
     "name": "stdout",
     "output_type": "stream",
     "text": [
      "-------------------------------------------------------------------------\n",
      "\u001b[34m\u001b[1mRésultats de : newton appliqué à f1:\u001b[22m\u001b[39m\n",
      "  * x0       = [10.0, 3.0, -2.2]\n",
      "  * x_sol    = [1.0, 0.9999999999999996, 0.9999999999999987]\n",
      "  * f(x_sol) = 7.296963373294359e-30\n",
      "  * nb_iters = 1\n",
      "  * flag     = 0\n",
      "  * solution = [1, 1, 1]\n",
      "-------------------------------------------------------------------------\n",
      "\u001b[34m\u001b[1mRésultats de : newton appliqué à f2:\u001b[22m\u001b[39m\n",
      "  * x0       = [-1.2, 1.0]\n",
      "  * x_sol    = [0.9999999999999999, 0.9999999999814724]\n",
      "  * f(x_sol) = 3.4326461875363225e-20\n",
      "  * nb_iters = 6\n",
      "  * flag     = 0\n",
      "  * solution = [1, 1]\n",
      "-------------------------------------------------------------------------"
     ]
    },
    {
     "name": "stdout",
     "output_type": "stream",
     "text": [
      "\n",
      "\u001b[34m\u001b[1mRésultats de : newton appliqué à f2:\u001b[22m\u001b[39m\n",
      "  * x0       = [10, 0]\n",
      "  * x_sol    = [1.0, 1.0]\n",
      "  * f(x_sol) = 0.0\n",
      "  * nb_iters = 5\n",
      "  * flag     = 0\n",
      "  * solution = [1, 1]\n",
      "-------------------------------------------------------------------------\n",
      "\u001b[34m\u001b[1mRésultats de : newton appliqué à f2:\u001b[22m\u001b[39m\n",
      "  * x0       = [0.0, 0.0050000000010000005]\n",
      "  * x_sol    = [-4.99999958629818e9, 8.673617379884035e-19]\n",
      "  * f(x_sol) = 6.249997931491155e40\n",
      "  * nb_iters = 1\n",
      "  * flag     = 3\n",
      "  * solution = [1, 1]\n",
      "\u001b[0m\u001b[1mTest Summary:        | \u001b[22m\u001b[32m\u001b[1mPass  \u001b[22m\u001b[39m\u001b[36m\u001b[1mTotal  \u001b[22m\u001b[39m\u001b[0m\u001b[1mTime\u001b[22m\n",
      "algorithme de Newton | \u001b[32m  19  \u001b[39m\u001b[36m   19  \u001b[39m\u001b[0m0.8s\n"
     ]
    }
   ],
   "source": [
    "include(\"../src/newton.jl\")         # votre algorithme de Newton\n",
    "include(\"../test/tester_newton.jl\") # la fonction pour tester votre algorithme de Newton\n",
    "\n",
    "#\n",
    "afficher = true # si true, alors affiche les résultats des algorithmes\n",
    "\n",
    "#\n",
    "tester_newton(newton, afficher); # tester l'algorithme de Newton"
   ]
  },
  {
   "cell_type": "code",
   "execution_count": 6,
   "metadata": {},
   "outputs": [
    {
     "name": "stdout",
     "output_type": "stream",
     "text": [
      "-------------------------------------------------------------------------\n",
      "\u001b[34m\u001b[1mRésultats de : Newton appliqué à f0:\u001b[22m\u001b[39m\n",
      "  * x0       = -1.5707963267948966\n",
      "  * x_sol    = -1.5707963267948966\n",
      "  * f(x_sol) = -1.0\n",
      "  * nb_iters = 0\n",
      "  * flag     = 0\n",
      "  * solution = -1.5707963267948966\n",
      "-------------------------------------------------------------------------\n",
      "\u001b[34m\u001b[1mRésultats de : Newton appliqué à f0:\u001b[22m\u001b[39m\n",
      "  * x0       = -1.0707963267948966\n",
      "  * x_sol    = -1.5707963267949088\n",
      "  * f(x_sol) = -1.0\n",
      "  * nb_iters = 3\n",
      "  * flag     = 0\n",
      "  * solution = -1.5707963267948966\n",
      "-------------------------------------------------------------------------\n",
      "\u001b[34m\u001b[1mRésultats de : Newton appliqué à f0:\u001b[22m\u001b[39m\n",
      "  * x0       = 1.5707963267948966\n",
      "  * x_sol    = 1.5707963267948966\n",
      "  * f(x_sol) = 1.0\n",
      "  * nb_iters = 0\n",
      "  * flag     = 0\n",
      "  * solution = -1.5707963267948966\n"
     ]
    }
   ],
   "source": [
    "include(\"../src/newton.jl\") # votre algorithme de Newton\n",
    "include(\"../test/fonctions_de_tests.jl\") # pour avoir la fonction d'affichage des résultats\n",
    "\n",
    "# Fonction f0\n",
    "# -----------\n",
    "f0(x)      =  sin(x)\n",
    "grad_f0(x) =  cos(x) # la gradient de la fonction f0\n",
    "hess_f0(x) = -sin(x) # la hessienne de la fonction f0\n",
    "solution   = -pi/2\n",
    "\n",
    "x0 = solution\n",
    "x_sol, f_sol, flag, nb_iters = newton(f0, grad_f0, hess_f0, x0)\n",
    "afficher_resultats(\"Newton\", \"f0\", x0, x_sol, f_sol, flag, nb_iters, solution)\n",
    "\n",
    "x0 = -pi/2+0.5\n",
    "x_sol, f_sol, flag, nb_iters = newton(f0, grad_f0, hess_f0, x0)\n",
    "afficher_resultats(\"Newton\", \"f0\", x0, x_sol, f_sol, flag, nb_iters, solution)\n",
    "\n",
    "x0 = pi/2\n",
    "x_sol, f_sol, flag, nb_iters = newton(f0, grad_f0, hess_f0, x0)\n",
    "afficher_resultats(\"Newton\", \"f0\", x0, x_sol, f_sol, flag, nb_iters, solution)\n"
   ]
  },
  {
   "cell_type": "markdown",
   "metadata": {},
   "source": [
    "## Interprétation \n",
    "\n",
    "1. Justifier les résultats obtenus pour l'exemple $f_0$ ci-dessus;\n",
    "2. Justifier que l’algorithme implémenté converge en une itération pour $f_{1}$;\n",
    "3. Justifier que l’algorithme puisse ne pas converger pour $f_{2}$ avec certains points initiaux.\n",
    "\n",
    "**Remarque.** Vous pouvez mettre `affiche=true` dans les tests de l'algorithme de Newton pour\n",
    "vous aider.\n"
   ]
  },
  {
   "cell_type": "code",
   "execution_count": 4,
   "metadata": {},
   "outputs": [],
   "source": []
  },
  {
   "cell_type": "markdown",
   "metadata": {},
   "source": [
    "### 1. Justifier les résultats obtenus pour l'exemple $f_0$ ci-dessus;\n",
    "#### Premier cas (x0 = solution)\n",
    "Vous avez choisi $x_0 = -\\frac{\\pi}{2}$, qui est déjà la solution de $f_0(x) = 0$. La condition d'arret de l'algorithme de Newton est deja obtenue , comme cela l'algo converge immédiatement en 0 itérations.\n",
    "#### Deuxième cas (x0 = -π/2 + 0.5):\n",
    "On a choisi un point proche à la solution comme point de depart.  En trois itérations, l'algorithme converge vers la solution $x_{\\text{sol}} \\approx -\\frac{\\pi}{2}$, avec une valeur de la fonction $f_0(x_{\\text{sol}}) = -1.0$. Le flag indique que l'algorithme a convergé avec succès.\n",
    "\n",
    "#### Troisième cas (x0 = π/2):\n",
    " Dans le troisième cas, l'algorithme de Newton converge vers un maximum local au lieu de la solution minimale recherchée. Cela s'explique par le fait que $x_0 = \\frac{\\pi}{2}$ est un maximum local, ie : $||\\nabla f(x_k)|| \\approx 0$\n",
    "ce qui conduit à une convergence vers ce point. Cela met en évidence l'importance de choisir judicieusement la valeur initiale.\n",
    "\n",
    "### 2. Justifier que l’algorithme implémenté converge en une itération pour $f_{1}$;\n",
    " La première dérivée de $f_{1}$ par rapport à x est donnée par le gradient  $\\nabla f_1(x)$ :\n",
    "\n",
    " $$ \\nabla f_1(x) = \\begin{pmatrix}\n",
    "\\frac{\\partial f_1}{\\partial x_1}\\\\\n",
    "\\frac{\\partial f_1}{\\partial x_2}\\\\\n",
    "\\frac{\\partial f_1}{\\partial x_3}\\\\\n",
    "\\end{pmatrix}$$  \n",
    "$$ \\nabla f_1(x)=   \\begin{pmatrix}\n",
    "4(x_1​+x_2​+x_3​−3)+2(x_1​−x_2​)\\\\\n",
    "4(x_1​+x_2​+x_3​−3)−2(x_1​−x_2​)+2(x_2​−x_3​)\\\\\n",
    "4(x_1​+x_2​+x_3​−3)−2(x_2​−x_3​)​\\\\\n",
    "\\end{pmatrix}$$\n",
    "\n",
    "La deuxieme dérivée de $f_{1}$ par rapport à x est la hessienne $\\nabla^2 f_1(x)$ :\n",
    "\n",
    "$$\\nabla^2 f_1(x)= \\begin{pmatrix}\n",
    "6 & 2 & 4\\\\\n",
    "2 & 8 & 2\\\\\n",
    "4 & 2 & 6\\\\\n",
    "\\end{pmatrix}$$\n",
    "\n",
    "On calcule alors la direction de Newton qui est solution de : $\\nabla^2 f_1(x).d = - \\nabla f_1(x)$ . Alors, on obtient le système suivant :\n",
    "$$\\left\\{\\begin{matrix}\n",
    "6d_1+2d_2+4d_3 & = & 6x_1+2x_2+4x_3 - 12 \\\\\n",
    "2d_1+8d_2+2d_3 & = & 2x_1+8x_2+2x_3 - 12 \\\\\n",
    "4d_1+2d_2+6d_3 & = & 4x_1+2x_2+6x_3 - 12\n",
    "\\end{matrix}\\right.$$\n",
    "Donc ,\n",
    "$$ d = \\begin{pmatrix}\n",
    "1- x_1\\\\\n",
    "1-x_2\\\\\n",
    "1-x_3​\\\\\n",
    "\\end{pmatrix}$$\n",
    "\n",
    "Alors : $x_{k+1} = \\begin{pmatrix}\n",
    "1\\\\\n",
    "1\\\\\n",
    "1​\\\\\n",
    "\\end{pmatrix}$\n",
    "Or: $ \\nabla f_1(x_{k+1})=   \\begin{pmatrix}\n",
    "0\\\\\n",
    "0\\\\\n",
    "0​\\\\\n",
    "\\end{pmatrix}$ (convergence !).\n",
    "\n",
    "En conséquence, l'algorithme de Newton converge en une seule itération pour $f_{1}$.\n",
    "\n",
    "### 3. Justifier que l’algorithme puisse ne pas converger pour $f_{2}$ avec certains points initiaux.\n",
    "\n",
    "De meme, quand on calcule $\\nabla f_2(x)$, ensuite  $\\nabla^2 f_2(x)$, On remarque que pour $x_0 = (0, 1/200)$. On obtient :\n",
    "\n",
    " $$\\nabla^2 f_2(x_0)= \\begin{pmatrix}\n",
    "0 & 0\\\\\n",
    "0 & 200\\\\\n",
    "\\end{pmatrix}$$\n",
    "\n",
    "Et, si on considere le vecteur v = [1, 0]  tel que : $v^T\\nabla^2 f_2(x_0)v = 0$. Alors, la hessienne n'est pas définie positive. L'algo ne peut pas converger. D'ou le resultat.\n",
    "\n",
    "\n",
    "\n",
    "\n",
    "\n"
   ]
  }
 ],
 "metadata": {
  "kernelspec": {
   "display_name": "Julia 1.9.4",
   "language": "julia",
   "name": "julia-1.9"
  },
  "language_info": {
   "file_extension": ".jl",
   "mimetype": "application/julia",
   "name": "julia",
   "version": "1.9.4"
  }
 },
 "nbformat": 4,
 "nbformat_minor": 4
}
