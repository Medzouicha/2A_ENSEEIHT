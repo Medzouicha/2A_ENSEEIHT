{
 "cells": [
  {
   "attachments": {},
   "cell_type": "markdown",
   "metadata": {},
   "source": [
    "# TP 3 : Resolution dynamique applied knapsack problem"
   ]
  },
  {
   "attachments": {},
   "cell_type": "markdown",
   "metadata": {},
   "source": [
    "### Initialisation (à faire une seule fois)"
   ]
  },
  {
   "cell_type": "code",
   "execution_count": 10,
   "metadata": {},
   "outputs": [
    {
     "name": "stderr",
     "output_type": "stream",
     "text": [
      "\u001b[32m\u001b[1m   Resolving\u001b[22m\u001b[39m package versions...\n"
     ]
    },
    {
     "name": "stderr",
     "output_type": "stream",
     "text": [
      "\u001b[32m\u001b[1m  No Changes\u001b[22m\u001b[39m to `C:\\Users\\ZOUICHA MOHAMMED\\.julia\\environments\\v1.9\\Project.toml`\n",
      "\u001b[32m\u001b[1m  No Changes\u001b[22m\u001b[39m to `C:\\Users\\ZOUICHA MOHAMMED\\.julia\\environments\\v1.9\\Manifest.toml`"
     ]
    },
    {
     "name": "stderr",
     "output_type": "stream",
     "text": [
      "\n"
     ]
    },
    {
     "name": "stderr",
     "output_type": "stream",
     "text": [
      "\u001b[32m\u001b[1m   Resolving\u001b[22m\u001b[39m package versions..."
     ]
    },
    {
     "name": "stderr",
     "output_type": "stream",
     "text": [
      "\n",
      "\u001b[32m\u001b[1m  No Changes\u001b[22m\u001b[39m to `C:\\Users\\ZOUICHA MOHAMMED\\.julia\\environments\\v1.9\\Project.toml`\n",
      "\u001b[32m\u001b[1m  No Changes\u001b[22m\u001b[39m to `C:\\Users\\ZOUICHA MOHAMMED\\.julia\\environments\\v1.9\\Manifest.toml`\n"
     ]
    }
   ],
   "source": [
    "import Pkg; \n",
    "Pkg.add(\"GraphRecipes\"); Pkg.add(\"Plots\"); \n",
    "using GraphRecipes, Plots #only used to visualize the search tree at the end of the branch-and-bound"
   ]
  },
  {
   "attachments": {},
   "cell_type": "markdown",
   "metadata": {},
   "source": [
    "### Récupération des données"
   ]
  },
  {
   "cell_type": "code",
   "execution_count": 11,
   "metadata": {},
   "outputs": [
    {
     "data": {
      "text/plain": [
       "readKnaptxtInstance (generic function with 1 method)"
      ]
     },
     "metadata": {},
     "output_type": "display_data"
    }
   ],
   "source": [
    "function readKnaptxtInstance(filename)\n",
    "    price=Int64[]\n",
    "    weight=Int64[]\n",
    "    KnapCap=Int64[]\n",
    "    open(filename) do f\n",
    "        for i in 1:3\n",
    "            tok = split(readline(f))\n",
    "            if(tok[1] == \"ListPrices=\")\n",
    "                for i in 2:(length(tok)-1)\n",
    "                    push!(price,parse(Int64, tok[i]))\n",
    "                end\n",
    "            elseif(tok[1] == \"ListWeights=\")\n",
    "                for i in 2:(length(tok)-1)\n",
    "                    push!(weight,parse(Int64, tok[i]))\n",
    "                end\n",
    "            elseif(tok[1] == \"Capacity=\")\n",
    "                push!(KnapCap, parse(Int64, tok[2]))\n",
    "            else\n",
    "                println(\"Unknown read :\", tok)\n",
    "            end\n",
    "        end\n",
    "    end\n",
    "    capacity=KnapCap[1]\n",
    "    return price, weight, capacity\n",
    "end"
   ]
  },
  {
   "attachments": {},
   "cell_type": "markdown",
   "metadata": {},
   "source": [
    "### Tests de sondabilités TA, TO et TR basés sur le modèle linéaire"
   ]
  },
  {
   "cell_type": "code",
   "execution_count": 12,
   "metadata": {},
   "outputs": [
    {
     "data": {
      "text/plain": [
       "testSondability_LP (generic function with 2 methods)"
      ]
     },
     "metadata": {},
     "output_type": "display_data"
    }
   ],
   "source": [
    "function testSondability_LP(affichage,UB,LB,list_xi,poids,listobjs, listvals,capacity, BestProfit, Bestsol)\n",
    "    TA, TO, TR = false, false, false\n",
    "    capacite1 = capacity\n",
    "    for i in 1:length(listobjs)\n",
    "        if listvals[i] == 1\n",
    "            capacite1 -= poids[listobjs[i]]\n",
    "        end\n",
    "    end\n",
    "    \n",
    "    if(capacite1 < 0)#Test de faisabilite:le noeud a une capacité négative\n",
    "        TA=true\n",
    "        if affichage\n",
    "            println(\"TA\")\n",
    "        end\n",
    "    #Test d'optimalite:la borne supérieure est inférieure à la meilleure solution connue\n",
    "    elseif(UB <= BestProfit) \n",
    "        TO=true\n",
    "        if affichage\n",
    "            println(\"TO\")\n",
    "        end\n",
    "    elseif UB == LB\n",
    "         #Test de resolution:la borne supérieure et inférieure sont égale\n",
    "        TR=true\n",
    "        if affichage\n",
    "            println(\"TR\")\n",
    "        end\n",
    "        if ((UB >= BestProfit))\n",
    "            Bestsol = list_xi\n",
    "            BestProfit=UB\n",
    "            if affichage\n",
    "                println(\"\\nNew Solution memorized \", Bestsol, \" with bestprofit \", BestProfit, \"\\n\")\n",
    "            end\n",
    "        end\n",
    "    else\n",
    "        if affichage\n",
    "            println(\"non sondable\")\n",
    "        end\n",
    "    end\n",
    "    TA, TO, TR, Bestsol, BestProfit\n",
    "end"
   ]
  },
  {
   "attachments": {},
   "cell_type": "markdown",
   "metadata": {},
   "source": [
    "###  Création de la relaxation linéaire (= modèle associé au noeud 0): <span style=\"color:red\"> SECTION A SUPPRIMER !!!! </span>\n",
    "\n",
    "<span style=\"color:red\"> Cette section est à commenter/supprimer et remplacer par vos propres calculs de bornes supérieures et autres, par exemple basées sur les bornes 1 et 2 vues en cours, ou d'autres calculs de bornes de votre choix/conception validés au préalable par votre encadrant/e de TP </span>"
   ]
  },
  {
   "cell_type": "code",
   "execution_count": 13,
   "metadata": {},
   "outputs": [
    {
     "name": "stderr",
     "output_type": "stream",
     "text": [
      "\u001b[32m\u001b[1m   Resolving\u001b[22m\u001b[39m package versions...\n"
     ]
    },
    {
     "name": "stderr",
     "output_type": "stream",
     "text": [
      "\u001b[32m\u001b[1m  No Changes\u001b[22m\u001b[39m to `C:\\Users\\ZOUICHA MOHAMMED\\.julia\\environments\\v1.9\\Project.toml`\n",
      "\u001b[32m\u001b[1m  No Changes\u001b[22m\u001b[39m to `C:\\Users\\ZOUICHA MOHAMMED\\.julia\\environments\\v1.9\\Manifest.toml`"
     ]
    },
    {
     "name": "stderr",
     "output_type": "stream",
     "text": [
      "\n"
     ]
    },
    {
     "name": "stderr",
     "output_type": "stream",
     "text": [
      "\u001b[32m\u001b[1m   Resolving\u001b[22m\u001b[39m package versions...\n"
     ]
    },
    {
     "name": "stderr",
     "output_type": "stream",
     "text": [
      "\u001b[32m\u001b[1m  No Changes\u001b[22m\u001b[39m to `C:\\Users\\ZOUICHA MOHAMMED\\.julia\\environments\\v1.9\\Project.toml`\n",
      "\u001b[32m\u001b[1m  No Changes\u001b[22m\u001b[39m to `C:\\Users\\ZOUICHA MOHAMMED\\.julia\\environments\\v1.9\\Manifest.toml`"
     ]
    },
    {
     "name": "stderr",
     "output_type": "stream",
     "text": [
      "\n"
     ]
    },
    {
     "data": {
      "text/plain": [
       "createModel_LP (generic function with 1 method)"
      ]
     },
     "metadata": {},
     "output_type": "display_data"
    }
   ],
   "source": [
    "Pkg.add(\"Clp\");\n",
    "Pkg.add(\"JuMP\");\n",
    "using JuMP, Clp #to comment for the lab class\n",
    "\n",
    "function updateModele_LP!(model2, x, listobjs, listvals)\n",
    "    for i in 1:length(listobjs)\n",
    "        set_lower_bound(x[listobjs[i]],listvals[i])\n",
    "        set_upper_bound(x[listobjs[i]],listvals[i])\n",
    "    end\n",
    "end\n",
    "\n",
    "function reset_LP!(model2, x, listobjs)\n",
    "    for i in 1:length(listobjs)\n",
    "        set_lower_bound(x[listobjs[i]],0.0)\n",
    "        set_upper_bound(x[listobjs[i]],1.0)\n",
    "    end\n",
    "end\n",
    "\n",
    "function resetAll_LP!(model2, x)\n",
    "    for i in 1:length(x)\n",
    "        set_lower_bound(x[i],0.0)\n",
    "        set_upper_bound(x[i],1.0)\n",
    "    end\n",
    "end\n",
    "\n",
    "function createModel_LP(price, weight, capacity)\n",
    "# ROOT NODE\n",
    "\n",
    "    n=length(price)\n",
    "\n",
    "    model2 = Model(Clp.Optimizer) # set optimizer\n",
    "    set_optimizer_attribute(model2, \"LogLevel\", 0) #don't display anything during solve\n",
    "    set_optimizer_attribute(model2, \"Algorithm\", 4) #LP solver chosen is simplex\n",
    "\n",
    "    # define x variables as CONTINUOUS (recall that it is not possible to define binary variables in Clp)\n",
    "    @variable(model2, 0 <= x[i in 1:n] <= 1)\n",
    "\n",
    "    # define objective function\n",
    "    @objective(model2, Max, sum(price[i]*x[i] for i in 1:n))\n",
    "\n",
    "    # define the capacity constraint\n",
    "    @constraint(model2, sum(weight[i]*x[i] for i in 1:n) <=  capacity)\n",
    "\n",
    "    println(model2)\n",
    "\n",
    "    return model2, x\n",
    "end"
   ]
  },
  {
   "attachments": {},
   "cell_type": "markdown",
   "metadata": {},
   "source": [
    "### Resolution Dynamique \n"
   ]
  },
  {
   "cell_type": "code",
   "execution_count": 16,
   "metadata": {},
   "outputs": [
    {
     "data": {
      "text/plain": [
       "SolveKnapInstance1 (generic function with 1 method)"
      ]
     },
     "metadata": {},
     "output_type": "display_data"
    }
   ],
   "source": [
    "function Tab(prix, poids, capacite)\n",
    "    tab = fill(0, (0:length(prix) , 0:capacite))\n",
    "    for i in 1:length(prix)\n",
    "    \n",
    "        for j in 0: (capacite)\n",
    "      \n",
    "            if j == 0\n",
    "                tab[i,j] = 0 \n",
    "\n",
    "            elseif (poids[i]>j)\n",
    "                tab[i,j] = tab[i-1,j]\n",
    "            else \n",
    "                tab[i,j] = max(tab[i-1,j], tab[i-1,j-poids[i]]+prix[i])\n",
    "            end \n",
    "        end \n",
    "    end\n",
    "    return tab\n",
    "end\n",
    "\n",
    "function ResolutionDynamique(tab, prix, poids, capacite)\n",
    "    Bestsol = zeros(length(prix))\n",
    "    BestProfit = 0 \n",
    "\n",
    "    i = length(prix)\n",
    "    j = capacite\n",
    "    BestProfit= tab[i,j]\n",
    "    while (i > 1)\n",
    "        if tab[i-1,j] == tab[i,j]\n",
    "            Bestsol[i] = 0.0\n",
    "        else \n",
    "            i_choisi = i\n",
    "            Bestsol[i_choisi] = 1.0\n",
    "            j = j - poids[i_choisi]\n",
    "            #if j <= 0\n",
    "            #    j = 1\n",
    "            #end \n",
    "        end \n",
    "        i-=1\n",
    "    end \n",
    "\n",
    "    if tab[i,j] != 0\n",
    "        Bestsol[i] = 1.0\n",
    "    end \n",
    "\n",
    "    return Bestsol, BestProfit\n",
    "end \n",
    "\n",
    "function SolveKnapInstance1(filename)\n",
    "\n",
    "    prix, poids, capacite = readKnaptxtInstance(filename)\n",
    "\n",
    "    println(\"The prices are: \", join(string.(prix), \", \"))\n",
    "    println(\"The weights are: \", join(string.(poids), \", \"))\n",
    "    println(\"The capacity is :\", capacite)\n",
    "\n",
    "   # println(\"\\n ***Resolution Dynamique :**** \\n\")\n",
    "\n",
    "    tab = Tab(prix, poids, capacite)\n",
    "    Bestsol, BestProfit = ResolutionDynamique(tab, prix, poids, capacite)\n",
    "\n",
    "    #println(\"\\n******\\n\\nOptimal value = \", BestProfit,\"\\n******\\n\\nsolution optimale =\",Bestsol)\n",
    "    \n",
    "    return BestProfit, Bestsol\n",
    "end \n"
   ]
  },
  {
   "attachments": {},
   "cell_type": "markdown",
   "metadata": {},
   "source": [
    "### Affichage du résultat final"
   ]
  },
  {
   "cell_type": "code",
   "execution_count": 17,
   "metadata": {},
   "outputs": [
    {
     "name": "stdout",
     "output_type": "stream",
     "text": [
      "The prices are: 42, 40, 12, 25\n",
      "The weights are: 7, 4, 3, 5\n",
      "The capacity is :10\n",
      "\n",
      "******\n",
      "\n",
      "Optimal value avec la resolution Dynamique = 65\n",
      "\n",
      "Optimal x=[0.0, 1.0, 0.0, 1.0]\n"
     ]
    }
   ],
   "source": [
    "BestProfit, Bestsol = SolveKnapInstance1(\"InstancesKnapSack/test.opb.txt\")\n",
    "println(\"\\n******\\n\\nOptimal value avec la resolution Dynamique = \", BestProfit, \"\\n\\nOptimal x=\", Bestsol)\n"
   ]
  },
  {
   "cell_type": "markdown",
   "metadata": {},
   "source": [
    "## Question 1 : Expliquer ce qu’est la programmation dynamique et la relation de récurrence associée à un problème de programmation dynamique\n",
    "\n",
    "La programmation dynamique utilise des relations de récurrence pour résoudre des problèmes en les décomposant en sous-problèmes plus simples. La relation de récurrence décrit comment la solution globale peut être construite à partir des solutions des sous-problèmes.\n",
    "\n",
    "## Question 3 : Donner une courte argumentation de l’adéquation du résultat avec l’instance résolue \n",
    "\n",
    "Cette relation reflète la nature optimale du choix en considérant chaque objet individuellement tout en maintenant la capacité du sac à dos.\n",
    "\n",
    "La fonction $C_{i,j}$ représente la valeur maximale que l'on peut obtenir avec les $i$ premiers objets et une capacité de sac à dos de $j$. La relation de récurrence indique que cette valeur maximale peut être obtenue en considérant deux choix possibles :\n",
    "\n",
    "1. **Ne pas inclure l'objet $i$:**\n",
    "   - La valeur maximale pour les $i$ premiers objets et une capacité de sac à dos de $j$ est simplement $C_{i−1,j}$, c'est-à-dire la valeur maximale obtenue sans inclure l'objet $i$.\n",
    "\n",
    "2. **Inclure l'objet $i$:**\n",
    "   - La valeur maximale pour les $i$ premiers objets et une capacité de sac à dos de $j$ peut également être obtenue en ajoutant la valeur de l'objet $i$ ($c_i$) à la valeur maximale obtenue pour les $i-1$ premiers objets et une capacité de sac à dos réduite de la capacité requise pour l'objet $i$ ($w_i$). Cela donne $C_{i−1,j−w_i}+c_i$.\n",
    "\n",
    "Ainsi, pour déterminer la valeur maximale pour les $i$ premiers objets et une capacité de sac à dos de $j$, on choisit le maximum entre les deux options ci-dessus :\n",
    "\n",
    "$C_{i, j}=\\max \\left\\{C_{i-1, j}, C_{i-1, j-w_i}+C_i\\right\\}$\n",
    "\n",
    "En répétant ce processus pour chaque objet, l'algorithme explore toutes les combinaisons possibles d'inclusion ou d'exclusion d'objets pour obtenir la meilleure valeur tout en respectant la capacité du sac à dos. Cela garantit que la solution obtenue est optimale par rapport à la valeur des objets tout en respectant les contraintes de capacité. L'approche dynamique permet d'éviter des calculs redondants en mémorisant les résultats intermédiaires, améliorant ainsi l'efficacité de l'algorithme.\n",
    "\n",
    "## Question 4 : Expliquer le fonctionnement de votre algorithme\n",
    "\n",
    "Ces deux fonctions implémentent une solution en programmation dynamique pour le problème du sac à dos.\n",
    "-> Tab(prix, poids, capacite) : Cette fonction crée et remplit un tableau de manière itérative en utilisant la programmation dynamique pour résoudre le probleme, en se basant sur la relation de récurrence : \n",
    "\n",
    "$C_{i, j}=\\max \\left\\{C_{i-1, j}, C_{i-1, j-w_i}+C_i\\right\\}$\n",
    "\n",
    "-> ResolutionDynamique(tab, prix, poids, capacite) : Cette fonction prend en entrée le tableau résultant de la phase de construction (tab), ainsi que les tableaux prix, poids et la capacité maximale du sac à dos. Elle utilise le tableau tab pour déduire la solution optimale tab[length(prix),capacite] , en indiquant quels objets doivent être inclus dans le sac à dos pour maximiser le profit. \n",
    "\n",
    "## Question 5 : Tests de l'algorithme\n",
    "\n",
    "\n"
   ]
  },
  {
   "cell_type": "code",
   "execution_count": 18,
   "metadata": {},
   "outputs": [
    {
     "name": "stdout",
     "output_type": "stream",
     "text": [
      "\n",
      "\u001b[32m\u001b[1mtest  : InstancesKnapSack/almost_strongly_correlated/knapPI_5_100_1000_1_-2295.opb.txt:\u001b[22m\u001b[39m\n",
      "The prices are: 585, 426, 347, 521, 423, 894, 142, 946, 1054, 353, 108, 1001, 221, 194, 839, 673, 815, 983, 466, 1083, 398, 534, 781, 173, 973, 239, 957, 244, 1096, 630, 299, 377, 197, 820, 343, 208, 223, 170, 198, 699, 744, 366, 1071, 996, 313, 848, 586, 1023, 128, 773, 639, 653, 566, 146, 809, 654, 292, 824, 829, 1087, 191, 439, 650, 295, 965, 779, 669, 1037, 822, 752, 222, 531, 607, 684, 952, 741, 1092, 824, 386, 911, 958, 762, 189, 278, 287, 718, 360, 945, 293, 360, 613, 986, 631, 950, 395, 898, 492, 430, 398, 890\n",
      "The weights are: 485, 326, 248, 421, 322, 795, 43, 845, 955, 252, 9, 901, 122, 94, 738, 574, 715, 882, 367, 984, 299, 433, 682, 72, 874, 138, 856, 145, 995, 529, 199, 277, 97, 719, 242, 107, 122, 70, 98, 600, 645, 267, 972, 895, 213, 748, 487, 923, 29, 674, 540, 554, 467, 46, 710, 553, 191, 724, 730, 988, 90, 340, 549, 196, 865, 678, 570, 936, 722, 651, 123, 431, 508, 585, 853, 642, 992, 725, 286, 812, 859, 663, 88, 179, 187, 619, 261, 846, 192, 261, 514, 886, 530, 849, 294, 799, 391, 330, 298, 790\n",
      "The capacity is :995\n",
      "--- temps de calcul : 0.002000093460083008\n",
      "--- Optimal value = 2295\n",
      "--- Optimal x=[0.0, 0.0, 0.0, 0.0, 0.0, 0.0, 1.0, 0.0, 0.0, 0.0, 1.0, 0.0, 0.0, 0.0, 0.0, 0.0, 0.0, 0.0, 0.0, 0.0, 0.0, 0.0, 0.0, 1.0, 0.0, 0.0, 0.0, 0.0, 0.0, 0.0, 0.0, 0.0, 1.0, 0.0, 0.0, 1.0, 1.0, 1.0, 1.0, 0.0, 0.0, 0.0, 0.0, 0.0, 0.0, 0.0, 0.0, 0.0, 1.0, 0.0, 0.0, 0.0, 0.0, 1.0, 0.0, 0.0, 0.0, 0.0, 0.0, 0.0, 1.0, 0.0, 0.0, 0.0, 0.0, 0.0, 0.0, 0.0, 0.0, 0.0, 1.0, 0.0, 0.0, 0.0, 0.0, 0.0, 0.0, 0.0, 0.0, 0.0, 0.0, 0.0, 1.0, 0.0, 0.0, 0.0, 0.0, 0.0, 0.0, 0.0, 0.0, 0.0, 0.0, 0.0, 0.0, 0.0, 0.0, 0.0, 0.0, 0.0]\n",
      "\n",
      "\u001b[32m\u001b[1mtest  : InstancesKnapSack/circle/knapPI_16_100_1000_1_-4400.opb.txt:\u001b[22m\u001b[39m\n",
      "The prices are: 403, 886, 814, 1151, 983, 629, 848, 1074, 839, 819, 1062, 762, 994, 950, 111, 914, 737, 1049, 1152, 1110, 973, 474, 824, 1013, 963, 1101, 1024, 816, 1063, 575, 1153, 447, 1117, 910, 1017, 931, 909, 1126, 1027, 871, 1052, 891, 375, 1131, 318, 705, 1048, 908, 1026, 1061, 865, 493, 742, 978, 575, 877, 339, 1078, 592, 1019, 1066, 717, 690, 800, 855, 1006, 1082, 614, 638, 1090, 441, 780, 764, 337, 871, 1005, 687, 1108, 205, 875, 1109, 395, 554, 600, 173, 860, 815, 816, 759, 1002, 708, 582, 786, 1135, 881, 572, 1033, 727, 1151, 613\n",
      "The weights are: 94, 506, 416, 992, 649, 237, 457, 815, 446, 422, 791, 359, 667, 598, 7, 544, 334, 766, 994, 893, 633, 131, 428, 700, 617, 874, 720, 419, 794, 196, 997, 116, 908, 539, 707, 569, 537, 931, 726, 487, 772, 513, 81, 943, 58, 303, 764, 536, 724, 789, 479, 142, 339, 641, 196, 494, 66, 824, 208, 711, 800, 314, 289, 401, 466, 689, 833, 225, 244, 849, 113, 379, 361, 65, 486, 686, 286, 889, 24, 491, 891, 90, 181, 214, 17, 472, 418, 419, 356, 682, 306, 201, 385, 952, 500, 194, 737, 324, 992, 224\n",
      "The capacity is :997\n",
      "--- temps de calcul : 0.0019998550415039062\n",
      "--- Optimal value = 4400\n",
      "--- Optimal x=[1.0, 0.0, 0.0, 0.0, 0.0, 0.0, 0.0, 0.0, 0.0, 0.0, 0.0, 0.0, 0.0, 0.0, 0.0, 0.0, 0.0, 0.0, 0.0, 0.0, 0.0, 1.0, 0.0, 0.0, 0.0, 0.0, 0.0, 0.0, 0.0, 0.0, 0.0, 1.0, 0.0, 0.0, 0.0, 0.0, 0.0, 0.0, 0.0, 0.0, 0.0, 0.0, 1.0, 0.0, 1.0, 0.0, 0.0, 0.0, 0.0, 0.0, 0.0, 1.0, 0.0, 0.0, 0.0, 0.0, 1.0, 0.0, 0.0, 0.0, 0.0, 0.0, 0.0, 0.0, 0.0, 0.0, 0.0, 0.0, 0.0, 0.0, 1.0, 0.0, 0.0, 1.0, 0.0, 0.0, 0.0, 0.0, 1.0, 0.0, 0.0, 1.0, 0.0, 0.0, 1.0, 0.0, 0.0, 0.0, 0.0, 0.0, 0.0, 0.0, 0.0, 0.0, 0.0, 0.0, 0.0, 0.0, 0.0, 0.0]\n",
      "\n",
      "\u001b[32m\u001b[1mtest  : InstancesKnapSack/inverse_strongly_correlated/knapPI_4_50_1000_1_-994.opb.txt:\u001b[22m\u001b[39m\n",
      "The prices are: 485, 94, 326, 506, 248, 416, 421, 992, 322, 649, 795, 237, 43, 457, 845, 815, 955, 446, 252, 422, 9, 791, 901, 359, 122, 667, 94, 598, 738, 7, 574, 544, 715, 334, 882, 766, 367, 994, 984, 893, 299, 633, 433, 131, 682, 428, 72, 700, 874, 617\n",
      "The weights are: 585, 194, 426, 606, 348, 516, 521, 1092, 422, 749, 895, 337, 143, 557, 945, 915, 1055, 546, 352, 522, 109, 891, 1001, 459, 222, 767, 194, 698, 838, 107, 674, 644, 815, 434, 982, 866, 467, 1094, 1084, 993, 399, 733, 533, 231, 782, 528, 172, 800, 974, 717\n",
      "The capacity is :1094\n",
      "--- temps de calcul : 0.0009999275207519531\n",
      "--- Optimal value = 994\n",
      "--- Optimal x=["
     ]
    },
    {
     "name": "stdout",
     "output_type": "stream",
     "text": [
      "0.0, 0.0, 0.0, 0.0, 0.0, 0.0, 0.0, 0.0, 0.0, 0.0, 0.0, 0.0, 0.0, 0.0, 0.0, 0.0, 0.0, 0.0, 0.0, 0.0, 0.0, 0.0, 0.0, 0.0, 0.0, 0.0, 0.0, 0.0, 0.0, 0.0, 0.0, 0.0, 0.0, 0.0, 0.0, 0.0, 0.0, 1.0, 0.0, 0.0, 0.0, 0.0, 0.0, 0.0, 0.0, 0.0, 0.0, 0.0, 0.0, 0.0]\n",
      "\n",
      "\u001b[32m\u001b[1mtest  : InstancesKnapSack/inverse_strongly_correlated/knapPI_4_100_1000_1_-997.opb.txt:\u001b[22m\u001b[39m\n",
      "The prices are: 485, 94, 326, 506, 248, 416, 421, 992, 322, 649, 795, 237, 43, 457, 845, 815, 955, 446, 252, 422, 9, 791, 901, 359, 122, 667, 94, 598, 738, 7, 574, 544, 715, 334, 882, 766, 367, 994, 984, 893, 299, 633, 433, 131, 682, 428, 72, 700, 874, 617, 138, 874, 856, 720, 145, 419, 995, 794, 529, 196, 199, 997, 277, 116, 97, 908, 719, 539, 242, 707, 107, 569, 122, 537, 70, 931, 98, 726, 600, 487, 645, 772, 267, 513, 972, 81, 895, 943, 213, 58, 748, 303, 487, 764, 923, 536, 29, 724, 674, 789\n",
      "The weights are: 585, 194, 426, 606, 348, 516, 521, 1092, 422, 749, 895, 337, 143, 557, 945, 915, 1055, 546, 352, 522, 109, 891, 1001, 459, 222, 767, 194, 698, 838, 107, 674, 644, 815, 434, 982, 866, 467, 1094, 1084, 993, 399, 733, 533, 231, 782, 528, 172, 800, 974, 717, 238, 974, 956, 820, 245, 519, 1095, 894, 629, 296, 299, 1097, 377, 216, 197, 1008, 819, 639, 342, 807, 207, 669, 222, 637, 170, 1031, 198, 826, 700, 587, 745, 872, 367, 613, 1072, 181, 995, 1043, 313, 158, 848, 403, 587, 864, 1023, 636, 129, 824, 774, 889\n",
      "The capacity is :1097\n",
      "--- temps de calcul : 0.002000093460083008\n",
      "--- Optimal value = 997\n",
      "--- Optimal x=[0.0, 0.0, 0.0, 0.0, 0.0, 0.0, 0.0, 0.0, 0.0, 0.0, 0.0, 0.0, 0.0, 0.0, 0.0, 0.0, 0.0, 0.0, 0.0, 0.0, 0.0, 0.0, 0.0, 0.0, 0.0, 0.0, 0.0, 0.0, 0.0, 0.0, 0.0, 0.0, 0.0, 0.0, 0.0, 0.0, 0.0, 0.0, 0.0, 0.0, 0.0, 0.0, 0.0, 0.0, 0.0, 0.0, 0.0, 0.0, 0.0, 0.0, 0.0, 0.0, 0.0, 0.0, 0.0, 0.0, 0.0, 0.0, 0.0, 0.0, 0.0, 1.0, 0.0, 0.0, 0.0, 0.0, 0.0, 0.0, 0.0, 0.0, 0.0, 0.0, 0.0, 0.0, 0.0, 0.0, 0.0, 0.0, 0.0, 0.0, 0.0, 0.0, 0.0, 0.0, 0.0, 0.0, 0.0, 0.0, 0.0, 0.0, 0.0, 0.0, 0.0, 0.0, 0.0, 0.0, 0.0, 0.0, 0.0, 0.0]\n",
      "\n",
      "\u001b[32m\u001b[1mtest  : InstancesKnapSack/multiple_strongly_correlated/knapPI_14_20_1000_1_-1794.opb.txt:\u001b[22m\u001b[39m\n",
      "The prices are: 294, 706, 616, 1192, 849, 437, 657, 1015, 646, 622, 991, 559, 867, 798, 207, 744, 534, 966, 1194, 1093\n",
      "The weights are: 94, 506, 416, 992, 649, 237, 457, 815, 446, 422, 791, 359, 667, 598, 7, 544, 334, 766, 994, 893\n",
      "The capacity is :994\n",
      "--- temps de calcul : 0.0010001659393310547\n",
      "--- Optimal value = 1794\n",
      "--- Optimal x=[0.0, 0.0, 1.0, 0.0, 0.0, 1.0, 0.0, 0.0, 0.0, 0.0, 0.0, 0.0, 0.0, 0.0, 1.0, 0.0, 1.0, 0.0, 0.0, 0.0]\n",
      "\n",
      "\u001b[32m\u001b[1mtest  : InstancesKnapSack/profit_ceiling/knapPI_15_20_1000_1_-999.opb.txt:\u001b[22m\u001b[39m\n",
      "The prices are: 96, 507, 417, 993, 651, 237, 459, 816, 447, 423, 792, 360, 669, 600, 9, 546, 336, 768, 996, 894\n",
      "The weights are: 94, 506, 416, 992, 649, 237, 457, 815, 446, 422, 791, 359, 667, 598, 7, 544, 334, 766, 994, 893\n",
      "The capacity is :994\n",
      "--- temps de calcul : 0.0009999275207519531\n",
      "--- Optimal value = 999\n",
      "--- Optimal x=[0.0, 0.0, 1.0, 0.0, 0.0, 1.0, 0.0, "
     ]
    },
    {
     "name": "stdout",
     "output_type": "stream",
     "text": [
      "0.0, 0.0, 0.0, 0.0, 0.0, 0.0, 0.0, 1.0, 0.0, 1.0, 0.0, 0.0, 0.0]\n",
      "\n",
      "\u001b[32m\u001b[1mtest  : InstancesKnapSack/profit_ceiling/knapPI_15_20_1000_3_-1002.opb.txt:\u001b[22m\u001b[39m\n",
      "The prices are: 96, 507, 417, 993, 651, 237, 459, 816, 447, 423, 792, 360, 669, 600, 9, 546, 336, 768, 996, 894, 948, 819, 420, 801, 408, 942, 72, 561, 795, 585, 597, 696, 465, 744, 171, 354, 858, 183, 888, 606, 447, 483, 426, 609, 516, 999, 36, 306, 495, 744, 402, 33, 612, 537, 336, 810, 735, 600, 429, 966\n",
      "The weights are: 94, 506, 416, 992, 649, 237, 457, 815, 446, 422, 791, 359, 667, 598, 7, 544, 334, 766, 994, 893, 946, 819, 420, 800, 406, 941, 70, 560, 795, 583, 595, 695, 463, 742, 171, 352, 858, 182, 887, 606, 447, 483, 425, 609, 514, 998, 34, 304, 495, 743, 400, 32, 612, 535, 336, 809, 735, 599, 427, 966\n",
      "The capacity is :998\n",
      "--- temps de calcul : 0.0019998550415039062\n",
      "--- Optimal value = 1011\n",
      "--- Optimal x=[1.0, 0.0, 0.0, 0.0, 0.0, 0.0, 1.0, 0.0, 0.0, 0.0, 0.0, 0.0, 0.0, 0.0, 1.0, 0.0, 0.0, 0.0, 0.0, 0.0, 0.0, 0.0, 0.0, 0.0, 0.0, 0.0, 1.0, 0.0, 0.0, 0.0, 0.0, 0.0, 0.0, 0.0, 0.0, 0.0, 0.0, 0.0, 0.0, 0.0, 0.0, 0.0, 0.0, 0.0, 0.0, 0.0, 1.0, 1.0, 0.0, 0.0, 0.0, 1.0, 0.0, 0.0, 0.0, 0.0, 0.0, 0.0, 0.0, 0.0]\n",
      "\n",
      "\u001b[32m\u001b[1mtest  : InstancesKnapSack/similar_weights/knapPI_9_100_1000_1_-995.opb.txt:\u001b[22m\u001b[39m\n",
      "The prices are: 485, 326, 248, 421, 322, 795, 43, 845, 955, 252, 9, 901, 122, 94, 738, 574, 715, 882, 367, 984, 299, 433, 682, 72, 874, 138, 856, 145, 995, 529, 199, 277, 97, 719, 242, 107, 122, 70, 98, 600, 645, 267, 972, 895, 213, 748, 487, 923, 29, 674, 540, 554, 467, 46, 710, 553, 191, 724, 730, 988, 90, 340, 549, 196, 865, 678, 570, 936, 722, 651, 123, 431, 508, 585, 853, 642, 992, 725, 286, 812, 859, 663, 88, 179, 187, 619, 261, 846, 192, 261, 514, 886, 530, 849, 294, 799, 391, 330, 298, 790\n",
      "The weights are: 100093, 100005, 100015, 100091, 100048, 100036, 100056, 100014, 100045, 100021, 100090, 100058, 100066, 100097, 100006, 100043, 100033, 100065, 100093, 100092, 100032, 100030, 100027, 100099, 100016, 100073, 100019, 100018, 100093, 100095, 100096, 100015, 100007, 100038, 100006, 100068, 100036, 100030, 100025, 100086, 100071, 100012, 100080, 100042, 100057, 100002, 100063, 100035, 100023, 100088, 100078, 100041, 100038, 100040, 100095, 100093, 100065, 100023, 100007, 100010, 100099, 100013, 100088, 100000, 100065, 100088, 100032, 100024, 100043, 100048, 100012, 100078, 100060, 100064, 100085, 100085, 100085, 100088, 100023, 100090, 100090, 100089, 100080, 100013, 100016, 100071, 100017, 100018, 100055, 100081, 100005, 100000, 100084, 100051, 100099, 100093, 100036, 100023, 100091, 100023\n",
      "The capacity is :100099\n"
     ]
    },
    {
     "name": "stdout",
     "output_type": "stream",
     "text": [
      "--- temps de calcul : 0.15799999237060547\n",
      "--- Optimal value = 995\n",
      "--- Optimal x=[0.0, 0.0, 0.0, 0.0, 0.0, 0.0, 0.0, 0.0, 0.0, 0.0, 0.0, 0.0, 0.0, 0.0, 0.0, 0.0, 0.0, 0.0, 0.0, 0.0, 0.0, 0.0, 0.0, 0.0, 0.0, 0.0, 0.0, 0.0, 1.0, 0.0, 0.0, 0.0, 0.0, 0.0, 0.0, 0.0, 0.0, 0.0, 0.0, 0.0, 0.0, 0.0, 0.0, 0.0, 0.0, 0.0, 0.0, 0.0, 0.0, 0.0, 0.0, 0.0, 0.0, 0.0, 0.0, 0.0, 0.0, 0.0, 0.0, 0.0, 0.0, 0.0, 0.0, 0.0, 0.0, 0.0, 0.0, 0.0, 0.0, 0.0, 0.0, 0.0, 0.0, 0.0, 0.0, 0.0, 0.0, 0.0, 0.0, 0.0, 0.0, 0.0, 0.0, 0.0, 0.0, 0.0, 0.0, 0.0, 0.0, 0.0, 0.0, 0.0, 0.0, 0.0, 0.0, 0.0, 0.0, 0.0, 0.0, 0.0]\n",
      "\n",
      "\u001b[32m\u001b[1mtest  : InstancesKnapSack/subset_sum/knapPI_6_100_1000_1_-997.opb.txt:\u001b[22m\u001b[39m\n",
      "The prices are: 485, 94, 326, 506, 248, 416, 421, 992, 322, 649, 795, 237, 43, 457, 845, 815, 955, 446, 252, 422, 9, 791, 901, 359, 122, 667, 94, 598, 738, 7, 574, 544, 715, 334, 882, 766, 367, 994, 984, 893, 299, 633, 433, 131, 682, 428, 72, 700, 874, 617, 138, 874, 856, 720, 145, 419, 995, 794, 529, 196, 199, 997, 277, 116, 97, 908, 719, 539, 242, 707, 107, 569, 122, 537, 70, 931, 98, 726, 600, 487, 645, 772, 267, 513, 972, 81, 895, 943, 213, 58, 748, 303, 487, 764, 923, 536, 29, 724, 674, 789\n",
      "The weights are: 485, 94, 326, 506, 248, 416, 421, 992, 322, 649, 795, 237, 43, 457, 845, 815, 955, 446, 252, 422, 9, 791, 901, 359, 122, 667, 94, 598, 738, 7, 574, 544, 715, 334, 882, 766, 367, 994, 984, 893, 299, 633, 433, 131, 682, 428, 72, 700, 874, 617, 138, 874, 856, 720, 145, 419, 995, 794, 529, 196, 199, 997, 277, 116, 97, 908, 719, 539, 242, 707, 107, 569, 122, 537, 70, 931, 98, 726, 600, 487, 645, 772, 267, 513, 972, 81, 895, 943, 213, 58, 748, 303, 487, 764, 923, 536, 29, 724, 674, 789\n",
      "The capacity is :997\n",
      "--- temps de calcul : 0.002000093460083008\n",
      "--- Optimal value = 997\n",
      "--- Optimal x=[0.0, 1.0, 0.0, 0.0, 0.0, 0.0, 0.0, 0.0, 0.0, 0.0, 0.0, 0.0, 0.0, 1.0, 0.0, 0.0, 0.0, 1.0, 0.0, 0.0, 0.0, 0.0, 0.0, 0.0, 0.0, 0.0, 0.0, 0.0, 0.0, 0.0, 0.0, 0.0, 0.0, 0.0, 0.0, 0.0, 0.0, 0.0, 0.0, 0.0, 0.0, 0.0, 0.0, 0.0, 0.0, 0.0, 0.0, 0.0, 0.0, 0.0, 0.0, 0.0, 0.0, 0.0, 0.0, 0.0, 0.0, 0.0, 0.0, 0.0, 0.0, 0.0, 0.0, 0.0, 0.0, 0.0, 0.0, 0.0, 0.0, 0.0, 0.0, 0.0, 0.0, 0.0, 0.0, 0.0, 0.0, 0.0, 0.0, 0.0, 0.0, 0.0, 0.0, 0.0, 0.0, 0.0, 0.0, 0.0, 0.0, 0.0, 0.0, 0.0, 0.0, 0.0, 0.0, 0.0, 0.0, 0.0, 0.0, 0.0]\n",
      "\n",
      "\u001b[32m\u001b[1mtest  : InstancesKnapSack/uncorrelated/knapPI_1_100_1000_1_-9147.opb.txt:\u001b[22m\u001b[39m\n",
      "The prices are: 94, 506, 416, 992, 649, 237, 457, 815, 446, 422, 791, 359, 667, 598, 7, 544, 334, 766, 994, 893, 633, 131, 428, 700, 617, 874, 720, 419, 794, 196, 997, 116, 908, 539, 707, 569, 537, 931, 726, 487, 772, 513, 81, 943, 58, 303, 764, 536, 724, 789, 479, 142, 339, 641, 196, 494, 66, 824, 208, 711, 800, 314, 289, 401, 466, 689, 833, 225, 244, 849, 113, 379, 361, 65, 486, 686, 286, 889, 24, 491, 891, 90, 181, 214, 17, 472, 418, 419, 356, 682, 306, 201, 385, 952, 500, 194, 737, 324, 992, 224\n",
      "The weights are: 485, 326, 248, 421, 322, 795, 43, 845, 955, 252, 9, 901, 122, 94, 738, 574, 715, 882, 367, 984, 299, 433, 682, 72, 874, 138, 856, 145, 995, 529, 199, 277, 97, 719, 242, 107, 122, 70, 98, 600, 645, 267, 972, 895, 213, 748, 487, 923, 29, 674, 540, 554, 467, 46, 710, 553, 191, 724, 730, 988, 90, 340, 549, 196, 865, 678, 570, 936, 722, 651, 123, 431, 508, 585, 853, 642, 992, 725, 286, 812, 859, 663, 88, 179, 187, 619, 261, 846, 192, 261, 514, 886, 530, 849, 294, 799, 391, 330, 298, 790\n",
      "The capacity is :995\n",
      "--- temps de calcul : 0.002000093460083008\n",
      "--- Optimal value = 9147\n",
      "--- Optimal x=[0.0, 0.0, 0.0, 0.0, "
     ]
    },
    {
     "name": "stdout",
     "output_type": "stream",
     "text": [
      "0.0, 0.0, 1.0, 0.0, 0.0, 0.0, 1.0, 0.0, 0.0, 1.0, 0.0, 0.0, 0.0, 0.0, 0.0, 0.0, 0.0, 0.0, 0.0, 1.0, 0.0, 1.0, 0.0, 0.0, 0.0, 0.0, 1.0, 0.0, 1.0, 0.0, 0.0, 0.0, 0.0, 1.0, 1.0, 0.0, 0.0, 0.0, 0.0, 0.0, 0.0, 0.0, 0.0, 0.0, 1.0, 0.0, 0.0, 0.0, 0.0, 1.0, 0.0, 0.0, 0.0, 0.0, 0.0, 0.0, 1.0, 0.0, 0.0, 0.0, 0.0, 0.0, 0.0, 0.0, 0.0, 0.0, 0.0, 0.0, 0.0, 0.0, 0.0, 0.0, 0.0, 0.0, 0.0, 0.0, 0.0, 0.0, 0.0, 0.0, 0.0, 0.0, 0.0, 0.0, 0.0, 0.0, 0.0, 0.0, 0.0, 0.0, 0.0, 0.0, 0.0, 0.0, 0.0, 0.0]\n",
      "\n",
      "\u001b[32m\u001b[1mtest  : InstancesKnapSack/strongly_correlated_span/knapPI_13_500_1000_1_-3198.opb.txt:\u001b[22m\u001b[39m\n",
      "The prices are: 234, 39, 1053, 351, 585, 78, 117, 234, 312, 156, 156, 273, 351, 351, 312, 468, 156, 585, 468, 1053, 702, 1053, 819, 234, 39, 1170, 234, 234, 351, 936, 468, 351, 351, 156, 351, 390, 468, 156, 312, 390, 468, 702, 234, 1170, 195, 117, 351, 936, 585, 78, 702, 234, 117, 117, 117, 819, 234, 702, 702, 156, 39, 351, 1170, 117, 156, 390, 390, 78, 1053, 936, 312, 156, 312, 39, 351, 39, 819, 585, 234, 585, 1170, 468, 195, 351, 312, 273, 1170, 312, 390, 936, 390, 1053, 585, 390, 117, 117, 78, 117, 234, 273, 702, 936, 156, 702, 585, 351, 312, 156, 351, 468, 117, 117, 273, 39, 468, 1170, 390, 195, 702, 1053, 39, 1170, 117, 234, 234, 819, 234, 936, 702, 585, 1170, 156, 234, 234, 156, 78, 78, 117, 1170, 1170, 195, 234, 117, 1170, 585, 936, 117, 117, 702, 585, 1170, 195, 936, 468, 234, 585, 234, 273, 273, 351, 351, 117, 273, 117, 117, 468, 78, 234, 936, 468, 273, 351, 234, 351, 39, 351, 78, 117, 351, 351, 234, 390, 39, 390, 156, 390, 351, 117, 195, 234, 390, 468, 156, 585, 585, 468, 156, 78, 117, 702, 1053, 585, 351, 39, 234, 585, 156, 156, 351, 702, 351, 702, 195, 936, 273, 39, 936, 702, 195, 351, 39, 234, 936, 234, 390, 585, 39, 585, 273, 702, 819, 195, 390, 468, 117, 390, 1170, 1053, 117, 1053, 78, 312, 585, 702, 351, 702, 468, 117, 117, 273, 819, 195, 156, 1053, 702, 117, 1170, 312, 234, 312, 351, 1170, 819, 273, 195, 819, 936, 585, 234, 78, 273, 702, 78, 1053, 312, 195, 312, 156, 819, 819, 234, 117, 585, 312, 78, 351, 702, 195, 195, 234, 936, 273, 234, 234, 117, 819, 78, 936, 273, 78, 312, 1053, 78, 312, 1053, 351, 234, 1053, 234, 1053, 1053, 702, 234, 156, 117, 195, 39, 156, 312, 819, 234, 1053, 819, 702, 468, 312, 351, 936, 234, 702, 390, 468, 78, 390, 390, 39, 273, 156, 195, 117, 312, 390, 312, 1170, 117, 819, 78, 468, 195, 390, 702, 234, 156, 390, 312, 1170, 585, 702, 1170, 819, 351, 117, 819, 156, 156, 312, 819, 936, 585, 1053, 312, 117, 234, 273, 78, 702, 702, 468, 39, 39, 312, 819, 351, 156, 936, 1053, 1170, 351, 117, 234, 1053, 39, 117, 39, 819, 585, 390, 1170, 1053, 390, 195, 351, 936, 351, 351, 819, 819, 195, 351, 936, 234, 156, 468, 39, 234, 1053, 156, 702, 819, 195, 234, 468, 1170, 312, 39, 117, 585, 390, 39, 351, 312, 78, 39, 39, 156, 117, 585, 351, 702, 1053, 195, 117, 312, 351, 819, 156, 117, 351, 117, 312, 351, 468, 234, 585, 117, 351, 156, 195, 195, 819, 117, 273, 1170, 234, 702, 1053, 156, 195, 273, 234, 234, 39, 390, 117, 702, 273, 702, 234, 156, 39, 585, 819, 351, 234, 117, 195, 351, 273, 351, 39, 1053, 273, 819, 78, 78, 39, 117, 156, 468, 234\n",
      "The weights are: 114, 19, 873, 291, 485, 38, 97, 194, 152, 76, 76, 133, 291, 291, 152, 388, 76, 485, 388, 873, 582, 873, 679, 194, 19, 970, 194, 194, 291, 776, 388, 171, 171, 76, 171, 190, 388, 76, 152, 190, 388, 582, 114, 970, 95, 97, 291, 776, 485, 38, 582, 114, 97, 57, 97, 679, 194, 582, 582, 76, 19, 171, 970, 97, 76, 190, 190, 38, 873, 776, 152, 76, 152, 19, 291, 19, 679, 485, 114, 485, 970, 388, 95, 171, 152, 133, 970, 152, 190, 776, 190, 873, 485, 190, 97, 57, 38, 97, 114, 133, 582, 776, 76, 582, 485, 291, 152, 76, 291, 388, 97, 57, 133, 19, 388, 970, 190, 95, 582, 873, 19, 970, 97, 194, 194, 679, 114, 776, 582, 485, 970, 76, 114, 194, 76, 38, 38, 97, 970, 970, 95, 194, 97, 970, 485, 776, 57, 97, 582, 485, 970, 95, 776, 388, 114, 485, 194, 133, 133, 291, 291, 57, 133, 57, 57, 388, 38, 114, 776, 388, 133, 171, 194, 171, 19, 171, 38, 57, 291, 291, 194, 190, 19, 190, 76, 190, 171, 97, 95, 114, 190, 388, 76, 485, 485, 388, 76, 38, 97, 582, 873, 485, 291, 19, 194, 485, 76, 76, 291, 582, 291, 582, 95, 776, 133, 19, 776, 582, 95, 291, 19, 114, 776, 194, 190, 485, 19, 485, 133, 582, 679, 95, 190, 388, 57, 190, 970, 873, 57, 873, 38, 152, 485, 582, 291, 582, 388, 57, 57, 133, 679, 95, 76, 873, 582, 97, 970, 152, 114, 152, 171, 970, 679, 133, 95, 679, 776, 485, 114, 38, 133, 582, 38, 873, 152, 95, 152, 76, 679, 679, 194, 97, 485, 152, 38, 171, 582, 95, 95, 114, 776, 133, 194, 194, 97, 679, 38, 776, 133, 38, 152, 873, 38, 152, 873, 291, 194, 873, 114, 873, 873, 582, 114, 76, 97, 95, 19, 76, 152, 679, 194, 873, 679, 582, 388, 152, 291, 776, 114, 582, 190, 388, 38, 190, 190, 19, 133, 76, 95, 57, 152, 190, 152, 970, 57, 679, 38, 388, 95, 190, 582, 114, 76, 190, 152, 970, 485, 582, 970, 679, 171, 97, 679, 76, 76, 152, 679, 776, 485, 873, 152, 97, 114, 133, 38, 582, 582, 388, 19, 19, 152, 679, 171, 76, 776, 873, 970, 171, 97, 194, 873, 19, 57, 19, 679, 485, 190, 970, 873, 190, 95, 171, 776, 171, 291, 679, 679, 95, 291, 776, 194, 76, 388, 19, 194, 873, 76, 582, 679, 95, 194, 388, 970, 152, 19, 97, 485, 190, 19, 171, 152, 38, 19, 19, 76, 57, 485, 291, 582, 873, 95, 97, 152, 171, 679, 76, 97, 291, 57, 152, 291, 388, 114, 485, 97, 171, 76, 95, 95, 679, 57, 133, 970, 114, 582, 873, 76, 95, 133, 194, 114, 19, 190, 57, 582, 133, 582, 194, 76, 19, 485, 679, 291, 194, 57, 95, 171, 133, 171, 19, 873, 133, 679, 38, 38, 19, 97, 76, 388, 114\n",
      "The capacity is :1558\n",
      "--- temps de calcul : 0.005000114440917969\n",
      "--- Optimal value = 3198\n",
      "--- Optimal x=[1.0, 1.0, 0.0, 0.0, 0.0, 1.0, 0.0, 0.0, 1.0, 1.0, 1.0, 1.0, 0.0, 0.0, 1.0, 0.0, 1.0, 0.0, 0.0, 0.0, 0.0, 0.0, 0.0, 0.0, 1.0, 0.0, 0.0, 0.0, 0.0, 0.0, 0.0, 1.0, 1.0, 0.0, 1.0, 1.0, 0.0, 0.0, "
     ]
    },
    {
     "name": "stdout",
     "output_type": "stream",
     "text": [
      "0.0, 0.0, 0.0, 0.0, 0.0, 0.0, 0.0, 0.0, 0.0, 0.0, 0.0, 0.0, 0.0, 0.0, 0.0, 0.0, 0.0, 0.0, 0.0, 0.0, 0.0, 0.0, 0.0, 0.0, 0.0, 0.0, 0.0, 0.0, 0.0, 0.0, 0.0, 0.0, 0.0, 0.0, 0.0, 0.0, 0.0, 0.0, 0.0, 0.0, 0.0, 0.0, 0.0, 0.0, 0.0, 0.0, 0.0, 0.0, 0.0, 0.0, 0.0, "
     ]
    },
    {
     "name": "stdout",
     "output_type": "stream",
     "text": [
      "0.0, 0.0, 0.0, 0.0, 0.0, 0.0, 0.0, 0.0, 0.0, 0.0, 0.0, 0.0, 0.0, 0.0, 0.0, 0.0, 0.0, 0.0, 0.0, 0.0, 0.0, 0.0, 0.0, 0.0, 0.0, 0.0, 0.0, 0.0, 0.0, 0.0, 0.0, 0.0, 0.0, 0.0, 0.0, 0.0, 0.0, 0.0, 0.0, 0.0, 0.0, 0.0, 0.0, 0.0, 0.0, 0.0, 0.0, 0.0, 0.0, 0.0, 0.0, 0.0, 0.0, 0.0, 0.0, 0.0, 0.0, 0.0, 0.0, 0.0, 0.0, 0.0, 0.0, 0.0, 0.0, 0.0, 0.0, 0.0, 0.0, 0.0, 0.0, 0.0, 0.0, 0.0, 0.0, 0.0, 0.0, 0.0, 0.0, 0.0, 0.0, 0.0, 0.0, 0.0, 0.0, 0.0, 0.0, 0.0, 0.0, 0.0, 0.0, 0.0, 0.0, 0.0, 0.0, 0.0, 0.0, 0.0, 0.0, 0.0, 0.0, 0.0, 0.0, 0.0, 0.0, 0.0, 0.0, 0.0, 0.0, 0.0, 0.0, 0.0, 0.0, 0.0, 0.0, 0.0, 0.0, 0.0, 0.0, 0.0, 0.0, 0.0, 0.0, 0.0, 0.0, 0.0, 0.0, 0.0, 0.0, 0.0, 0.0, 0.0, 0.0, 0.0, 0.0, 0.0, 0.0, 0.0, 0.0, 0.0, 0.0, 0.0, 0.0, 0.0, 0.0, 0.0, 0.0, 0.0, 0.0, 0.0, 0.0, 0.0, 0.0, 0.0, 0.0, 0.0, 0.0, 0.0, 0.0, 0.0, 0.0, 0.0, 0.0, 0.0, 0.0, 0.0, 0.0, 0.0, 0.0, 0.0, 0.0, 0.0, 0.0, 0.0, 0.0, 0.0, 0.0, 0.0, 0.0, 0.0, 0.0, 0.0, 0.0, 0.0, 0.0, 0.0, 0.0, 0.0, 0.0, 0.0, 0.0, 0.0, 0.0, 0.0, 0.0, 0.0, 0.0, 0.0, 0.0, 0.0, 0.0, 0.0, 0.0, 0.0, 0.0, 0.0, 0.0, 0.0, 0.0, 0.0, 0.0, 0.0, 0.0, 0.0, 0.0, 0.0, 0.0, 0.0, 0.0, 0.0, 0.0, 0.0, 0.0, 0.0, 0.0, 0.0, 0.0, 0.0, 0.0, 0.0, 0.0, 0.0, 0.0, 0.0, 0.0, 0.0, 0.0, 0.0, 0.0, 0.0, 0.0, 0.0,"
     ]
    },
    {
     "name": "stdout",
     "output_type": "stream",
     "text": [
      " 0.0, 0.0, 0.0, 0.0, 0.0, 0.0, 0.0, 0.0, 0.0, 0.0, 0.0, 0.0, 0.0, 0.0, 0.0, 0.0, 0.0, 0.0, 0.0, 0.0, 0.0, 0.0, 0.0, 0.0, 0.0, 0.0, 0.0, 0.0, 0.0, 0.0, 0.0, 0.0, 0.0, 0.0, 0.0, 0.0, 0.0, 0.0, 0.0, 0.0, 0.0, 0.0, 0.0, 0.0, 0.0, 0.0, 0.0, 0.0, 0.0, 0.0, 0.0, 0.0, 0.0, 0.0, 0.0, "
     ]
    },
    {
     "name": "stdout",
     "output_type": "stream",
     "text": [
      "0.0, 0.0, 0.0, 0.0, 0.0, 0.0, 0.0, 0.0, 0.0, 0.0, 0.0, 0.0, 0.0, 0.0, 0.0, 0.0, 0.0, 0.0, 0.0, 0.0, 0.0, 0.0, 0.0, 0.0, 0.0, 0.0, 0.0, 0.0, 0.0, 0.0, 0.0, 0.0, 0.0, 0.0, 0.0, 0.0, 0.0, 0.0, 0.0, 0.0, 0.0, 0.0, 0.0, 0.0, 0.0, 0.0, 0.0, 0.0, 0.0, 0.0, 0.0, 0.0, 0.0, 0.0, 0.0, 0.0, 0.0, 0.0, 0.0, 0.0, 0.0, 0.0, 0.0, 0.0, 0.0, 0.0, 0.0, 0.0, 0.0, 0.0, 0.0, 0.0, 0.0, 0.0, 0.0, 0.0, 0.0, 0.0, 0.0, 0.0, 0.0, 0.0, 0.0, 0.0, 0.0, 0.0, 0.0, 0.0, 0.0, 0.0, 0.0, 0.0, 0.0, 0.0, 0.0, 0.0, 0.0, 0.0, 0.0, 0.0, 0.0, 0.0, 0.0, 0.0, 0.0, 0.0, 0.0, 0.0, 0.0, 0.0, 0.0, 0.0, 0.0, 0.0]\n",
      "\n",
      "\u001b[32m\u001b[1mtest  : InstancesKnapSack/uncorrelated_span/knapPI_11_20_1000_1_-1428.opb.txt:\u001b[22m\u001b[39m\n",
      "The prices are: 114, 38, 133, 95, 612, 171, 918, 408, 714, 510, 114, 76, 57, 204, 1020, 816, 190, 510, 114, 714\n",
      "The weights are: 582, 194, 679, 485, 396, 873, 594, 264, 462, 330, 582, 388, 291, 132, 660, 528, 970, 330, 582, 462\n",
      "The capacity is :970\n",
      "--- temps de calcul : 0.0010001659393310547\n",
      "--- Optimal value = 1428\n",
      "--- Optimal x=[0.0, 0.0, 0.0, 0.0, 0.0, 0.0, 1.0, 0.0, 0.0, 1.0, 0.0, 0.0, 0.0, 0.0, 0.0, 0.0, 0.0, 0.0, 0.0, 0.0]\n",
      "\n",
      "\u001b[32m\u001b[1mtest  : InstancesKnapSack/weakly_correlated/knapPI_2_100_1000_1_-1514.opb.txt:\u001b[22m\u001b[39m\n",
      "The prices are: 482, 257, 286, 517, 404, 713, 45, 924, 873, 160, 1, 838, 40, 58, 676, 627, 766, 862, 405, 923, 379, 461, 612, 133, 813, 97, 908, 165, 996, 623, 220, 298, 157, 723, 144, 48, 129, 148, 35, 644, 632, 272, 1040, 977, 312, 778, 567, 965, 1, 616, 569, 628, 493, 76, 733, 575, 288, 775, 723, 912, 64, 354, 565, 210, 922, 775, 566, 934, 626, 742, 194, 485, 483, 617, 876, 653, 896, 652, 220, 727, 900, 563, 56, 157, 280, 537, 284, 920, 124, 239, 459, 931, 504, 910, 382, 795, 485, 351, 289, 865\n",
      "The weights are: "
     ]
    },
    {
     "name": "stdout",
     "output_type": "stream",
     "text": [
      "485, 326, 248, 421, 322, 795, 43, 845, 955, 252, 9, 901, 122, 94, 738, 574, 715, 882, 367, 984, 299, 433, 682, 72, 874, 138, 856, 145, 995, 529, 199, 277, 97, 719, 242, 107, 122, 70, 98, 600, 645, 267, 972, 895, 213, 748, 487, 923, 29, 674, 540, 554, 467, 46, 710, 553, 191, 724, 730, 988, 90, 340, 549, 196, 865, 678, 570, 936, 722, 651, 123, 431, 508, 585, 853, 642, 992, 725, 286, 812, 859, 663, 88, 179, 187, 619, 261, 846, 192, 261, 514, 886, 530, 849, 294, 799, 391, 330, 298, 790\n",
      "The capacity is :995\n",
      "--- temps de calcul : 0.04200005531311035\n",
      "--- Optimal value = 1514\n",
      "--- Optimal x=[0.0, 0.0, 0.0, 0.0, 0.0, 0.0, 0.0, 0.0, 0.0, 0.0, 1.0, 0.0, 0.0, 0.0, 0.0, 0.0, 0.0, 0.0, 0.0, 0.0, 0.0, 0.0, 0.0, 1.0, 0.0, 0.0, 0.0, 0.0, 0.0, 0.0, 0.0, 0.0, 1.0, 0.0, 0.0, 0.0, 0.0, 1.0, 0.0, 0.0, 0.0, 0.0, 0.0, 0.0, 1.0, 0.0, 0.0, 0.0, 1.0, 0.0, 0.0, 0.0, 0.0, 0.0, 0.0, 0.0, 1.0, 0.0, 0.0, 0.0, 0.0, 0.0, 0.0, 0.0, 0.0, 0.0, 0.0, 0.0, 0.0, 0.0, 1.0, 0.0, 0.0, 0.0, 0.0, 0.0, 0.0, 0.0, 0.0, 0.0, 0.0, 0.0, 0.0, 0.0, 1.0, 0.0, 0.0, 0.0, 0.0, 0.0, 0.0, 0.0, 0.0, 0.0, 0.0, 0.0, 0.0, 0.0, 0.0, 0.0]\n",
      "\n",
      "\u001b[32m\u001b[1mtest  : InstancesKnapSack/weakly_correlated_span/knapPI_12_100_1000_1_-970.opb.txt:\u001b[22m\u001b[39m\n",
      "The prices are: 582, 194, 679, 485, 312, 873, 468, 208, 364, 260, 582, 388, 291, 104, 520, 416, 970, 260, 582, 364, 776, 194, 468, 970, 312, 260, 156, 485, 416, 364, 582, 388, 468, 679, 52, 156, 312, 520, 52, 520, 468, 260, 468, 582, 388, 291, 468, 485, 312, 104, 468, 194, 97, 776, 388, 468, 416, 104, 104, 582, 485, 208, 388, 520, 104, 260, 364, 582, 468, 260, 208, 156, 679, 679, 97, 582, 97, 156, 679, 520, 208, 291, 776, 52, 291, 468, 156, 520, 468, 52, 873, 194, 520, 873, 873, 104, 873, 416, 776, 312\n",
      "The weights are: 582, 194, 679, 485, 396, 873, 594, 264, 462, 330, 582, 388, 291, 132, 660, 528, 970, 330, 582, 462, 776, 194, 594, 970, 396, 330, 198, 485, 528, 462, 582, 388, 594, 679, 66, 198, 396, 660, 66, 660, 594, 330, 594, 582, 388, 291, 594, 485, 396, 132, 594, 194, 97, 776, 388, 594, 528, 132, 132, 582, 485, 264, 388, 660, 132, 330, 462, 582, 594, 330, 264, 198, 679, 679, 97, 582, 97, 198, 679, 660, 264, 291, 776, 66, 291, 594, 198, 660, 594, 66, 873, 194, 660, 873, 873, 132, 873, 528, 776, 396\n",
      "The capacity is :970\n",
      "--- temps de calcul : 0.023999929428100586\n",
      "--- Optimal value = 970\n",
      "--- Optimal x=[1.0, 0.0, 0.0, 0.0, 0.0, 0.0, 0.0, 0.0, 0.0, 0.0, 0.0, 1.0, 0.0, 0.0, 0.0, 0.0, 0.0, 0.0, 0.0, 0.0, 0.0, 0.0, 0.0,"
     ]
    },
    {
     "name": "stdout",
     "output_type": "stream",
     "text": [
      " 0.0, 0.0, 0.0, 0.0, 0.0, 0.0, 0.0, 0.0, 0.0, 0.0, 0.0, 0.0, 0.0, 0.0, 0.0, 0.0, 0.0, 0.0, 0.0, 0.0, 0.0, 0.0, 0.0, 0.0, 0.0, 0.0, 0.0, 0.0, 0.0, 0.0, 0.0, 0.0, 0.0, 0.0, 0.0, 0.0, 0.0, 0.0, 0.0, 0.0, 0.0, 0.0, 0.0, 0.0, 0.0, 0.0, 0.0, 0.0, 0.0, 0.0, 0.0, 0.0, 0.0, 0.0, 0.0, 0.0, 0.0, 0.0, 0.0, 0.0, 0.0, 0.0, 0.0, 0.0, 0.0, 0.0, 0.0, 0.0, 0.0, 0.0, 0.0, 0.0, 0.0, 0.0, 0.0, 0.0, 0.0]\n"
     ]
    }
   ],
   "source": [
    "tests = [\"InstancesKnapSack/almost_strongly_correlated/knapPI_5_100_1000_1_-2295.opb.txt\",\n",
    "\"InstancesKnapSack/circle/knapPI_16_100_1000_1_-4400.opb.txt\",\n",
    "\"InstancesKnapSack/inverse_strongly_correlated/knapPI_4_50_1000_1_-994.opb.txt\",\n",
    "\"InstancesKnapSack/inverse_strongly_correlated/knapPI_4_100_1000_1_-997.opb.txt\",\n",
    "\"InstancesKnapSack/multiple_strongly_correlated/knapPI_14_20_1000_1_-1794.opb.txt\",\n",
    "\"InstancesKnapSack/profit_ceiling/knapPI_15_20_1000_1_-999.opb.txt\",\n",
    "\"InstancesKnapSack/profit_ceiling/knapPI_15_20_1000_3_-1002.opb.txt\",\n",
    "\"InstancesKnapSack/similar_weights/knapPI_9_100_1000_1_-995.opb.txt\",\n",
    "\"InstancesKnapSack/subset_sum/knapPI_6_100_1000_1_-997.opb.txt\",\n",
    "\"InstancesKnapSack/uncorrelated/knapPI_1_100_1000_1_-9147.opb.txt\",\n",
    "\"InstancesKnapSack/strongly_correlated_span/knapPI_13_500_1000_1_-3198.opb.txt\",\n",
    "\"InstancesKnapSack/uncorrelated_span/knapPI_11_20_1000_1_-1428.opb.txt\",\n",
    "\"InstancesKnapSack/weakly_correlated/knapPI_2_100_1000_1_-1514.opb.txt\",\n",
    "\"InstancesKnapSack/weakly_correlated_span/knapPI_12_100_1000_1_-970.opb.txt\"\n",
    "]\n",
    "\n",
    "for test in tests \n",
    "    debut = time()\n",
    "    printstyled(\"\\ntest  : \",test, \":\\n\", bold=true, color=:green)\n",
    "    BestProfit, Bestsol = SolveKnapInstance1(test)\n",
    "    fin = time()\n",
    "    temps_calcul = fin-debut\n",
    "\n",
    " \n",
    "    println(\"--- temps de calcul : \",temps_calcul)\n",
    "    println(\"--- Optimal value = \", BestProfit, \"\\n--- Optimal x=\", Bestsol)\n",
    "\n",
    "end"
   ]
  },
  {
   "cell_type": "markdown",
   "metadata": {},
   "source": [
    "## Question 6 : Comparer les temps de calcul obtenus avec votre algorithme de programmation dynamique et votre branch-and-bound implémenté lors du TP2 \n",
    "\n",
    " Le resultat comprend des instances de test, leurs prix, poids, valeurs optimales et les temps de calcul pour la programmation dynamique et le branch-and-bound. Les résultats indiquent que la programmation dynamique est plus rapide pour les grandes instances et les objets non corrélés, car elle évite de recalculer les mêmes scénarios. Le branch-and-bound fonctionne bien pour des objets fortement corrélés, réduisant rapidement l'espace de recherche."
   ]
  },
  {
   "cell_type": "code",
   "execution_count": 20,
   "metadata": {},
   "outputs": [
    {
     "data": {
      "text/plain": [
       "exploreNextNode_bestUB! (generic function with 1 method)"
      ]
     },
     "metadata": {},
     "output_type": "display_data"
    }
   ],
   "source": [
    "## Resolution Branch & Bound \n",
    "struct Noeud\n",
    "    vars::Vector{Int}     # Les objets choisis pour ce noeud\n",
    "    vals::Vector{Float64} # Les valeurs correspondantes \n",
    "    ub::Float64           # La borne sup de ce noeud\n",
    "    lb::Float64           # La borne inf de ce noeud\n",
    "    num_noued_pere::Int64 # le num du noeud parent de ce noeud\n",
    "end\n",
    "\n",
    "function separateNodeThenchooseNext_bestUB!(noeud_actuel::Noeud, list_best_ratio, price, weight, capacity,borne,num_noued_pere)\n",
    "    if borne == \"borne1\"\n",
    "        # Pour la borne1, choisir l'objet avec le meilleur ratio non encore pris\n",
    "        obj = 0\n",
    "        for i in list_best_ratio\n",
    "            if (!(i in noeud_actuel.vars) && (obj==0))\n",
    "                obj = i\n",
    "            end\n",
    "        end\n",
    "    elseif borne == \"borne2\"\n",
    "        # Pour la borne2, choisir l'objet la plus fractionnaire\n",
    "        _,_,obj = Borne2(capacity, weight,price,  noeud_actuel.vals, noeud_actuel.vars, list_best_ratio)\n",
    "    end    \n",
    "    # Créer deux nouveaux noeuds\n",
    "    \n",
    "    # noeud gauche\n",
    "    noeud_gauche_inter = Noeud(copy(noeud_actuel.vars), copy(noeud_actuel.vals), noeud_actuel.ub, noeud_actuel.lb,num_noued_pere)\n",
    "    push!(noeud_gauche_inter.vars, obj)\n",
    "    push!(noeud_gauche_inter.vals, 1.0)\n",
    "    \n",
    "    # Calculer les bornes sup et inf pour le noeud gauche\n",
    "    if borne == \"borne1\"\n",
    "        UB,LB,_ = Borne1(capacity, weight,price,  noeud_gauche_inter.vals, noeud_gauche_inter.vars, list_best_ratio)\n",
    "    elseif borne == \"borne2\"\n",
    "        UB,LB,_,_ = Borne2(capacity, weight,price,  noeud_gauche_inter.vals, noeud_gauche_inter.vars, list_best_ratio)\n",
    "    end\n",
    "    noeud_gauche = Noeud(copy(noeud_gauche_inter.vars), copy(noeud_gauche_inter.vals), UB, LB,num_noued_pere)\n",
    "\n",
    "\n",
    "    # noeud droit\n",
    "    noeud_droit_inter =  Noeud(copy(noeud_actuel.vars), copy(noeud_actuel.vals), noeud_actuel.ub, noeud_actuel.lb,num_noued_pere)\n",
    "    push!(noeud_droit_inter.vars, obj)\n",
    "    push!(noeud_droit_inter.vals, 0.0)\n",
    "    \n",
    "    # Calculer les bornes sup et inf pour le noeud droit\n",
    "    if borne == \"borne1\"\n",
    "        UB,LB,_  = Borne1(capacity, weight,price, noeud_droit_inter.vals, noeud_droit_inter.vars, list_best_ratio)\n",
    "    elseif borne == \"borne2\"\n",
    "        UB,LB,_ ,_ = Borne2(capacity, weight,price, noeud_droit_inter.vals, noeud_droit_inter.vars, list_best_ratio)\n",
    "    end\n",
    "    noeud_droit = Noeud(copy(noeud_droit_inter.vars), copy(noeud_droit_inter.vals), UB, LB,num_noued_pere)\n",
    "    \n",
    "    return noeud_gauche, noeud_droit\n",
    "end\n",
    "\n",
    "function exploreNextNode_bestUB!(list_des_noeuds)\n",
    "\n",
    "    # Si aucun noeud n'est à explorer, retourner true pour signaler la fin\n",
    "    if isempty(list_des_noeuds)\n",
    "        return true, nothing  \n",
    "    else\n",
    "        # Rechercher le noeud avec la plus grande borne supérieure\n",
    "        max_ub = -Inf\n",
    "        noeud_suivant = nothing\n",
    "        for noeud in list_des_noeuds\n",
    "            if noeud.ub > max_ub\n",
    "                max_ub = noeud.ub\n",
    "                noeud_suivant = noeud\n",
    "            end\n",
    "        end\n",
    "        deleteat!(list_des_noeuds, findfirst(==(noeud_suivant), list_des_noeuds))\n",
    "        return false, noeud_suivant\n",
    "    end\n",
    "end\n"
   ]
  },
  {
   "cell_type": "code",
   "execution_count": 21,
   "metadata": {},
   "outputs": [
    {
     "data": {
      "text/plain": [
       "(76.0, 40, [0.8571428571428571, 1.0, 0.0, 0.0])"
      ]
     },
     "metadata": {},
     "output_type": "display_data"
    }
   ],
   "source": [
    "function Borne1(capacite, poids, cout, listvals, listobjs, list_best_ratios)\n",
    "    prixtotal = 0 #prix total des objets pris jusqu'à présent\n",
    "    capacite1 = capacite #capacite restante\n",
    "    \n",
    "    n = length(listobjs)\n",
    "    list_xi = [0.0 for i in 1:length(poids)] # Liste pour conserver les valeurs des objets pris\n",
    "    \n",
    "    # Si aucun objet n'a été pris, utilisez l'objet avec le meilleur ratio pour calculer les bornes\n",
    "    if n == 0\n",
    "        i_max = list_best_ratios[1]\n",
    "        UB = capacite * (cout[i_max] / poids[i_max])\n",
    "        LB = 0\n",
    "        list_xi[i_max] = capacite / poids[i_max]\n",
    "        return UB,LB,list_xi\n",
    "    end\n",
    "     \n",
    "    # sinon on calcul la capacité restante,prix total et de la liste des proportions pour les objets déjà pris\n",
    "    for i in 1:length(listobjs)\n",
    "        if listvals[i] == 1\n",
    "            list_xi[listobjs[i]] = 1\n",
    "            capacite1 -= poids[listobjs[i]]\n",
    "            prixtotal += cout[listobjs[i]]\n",
    "        end\n",
    "    end\n",
    "    \n",
    "    # Trouver l'objet non pris avec le meilleur ratio et calculer sa proportion qui peut être prise\n",
    "    i_max = -1\n",
    "    toto = 0 # Quantité de l'objet avec le meilleur ratio qui peut être prise\n",
    "    for i in list_best_ratios\n",
    "        if !(i in listobjs)\n",
    "            i_max = i\n",
    "            toto = capacite1/poids[i_max]\n",
    "            list_xi[i_max]=toto\n",
    "            break;\n",
    "\n",
    "        end\n",
    "    end\n",
    "    if (n == length(poids)) \n",
    "            UB = prixtotal\n",
    "    else \n",
    "        UB = prixtotal + toto*cout[i_max]\n",
    "    end\n",
    "    LB = prixtotal\n",
    "    return UB,LB,list_xi\n",
    "end\n",
    "\n",
    "# Calcule la liste des indices des objets triés par le meilleur ratio\n",
    "function best_ratio(price, weight) \n",
    "    ratio = [(price[i]/weight[i],i) for i in 1:length(price)]\n",
    "    sort!(ratio,by = x -> x[1], rev=true)\n",
    "    return [i for (_,i) in ratio]\n",
    "end\n",
    "\n",
    "Borne1(10, [7, 4, 3, 5], [42, 40, 12, 25], [1], [2], [2, 1, 4, 3])"
   ]
  },
  {
   "cell_type": "code",
   "execution_count": 22,
   "metadata": {},
   "outputs": [
    {
     "data": {
      "text/plain": [
       "(44.0, 38, 3, [1.0, 1.0, 0.5, 0.0])"
      ]
     },
     "metadata": {},
     "output_type": "display_data"
    }
   ],
   "source": [
    "function Borne2(capacite, poids, cout, listvals, listobjs, list_best_ratios)\n",
    "    prixtotal = 0  #prix total des objets pris jusqu'à présent\n",
    "    capacite1 = capacite #capacite restante\n",
    "    n = length(listobjs)\n",
    "    list_xi = [0.0 for i in 1:length(poids)] # Liste pour conserver les valeurs des objets pris\n",
    "    \n",
    "    # Si aucun objet n'a été pris\n",
    "    if n == 0\n",
    "        UB = 0\n",
    "        LB = 0\n",
    "        elem_fract = 1\n",
    "        # On parcourt les objets dans l'ordre du meilleur ratio jusqu'à ce que la capacité soit atteinte.\n",
    "        for i in list_best_ratios\n",
    "            # Si l'objet entier peut être pris\n",
    "            if (capacite1 - poids[i] >= 0)\n",
    "                capacite1 = capacite1 - poids[i]\n",
    "                list_xi[i] = 1\n",
    "                UB = UB + cout[i]\n",
    "                LB = LB + cout[i]\n",
    "            # Sinon on prend une portion et c'est lui l'element le plus fractionnaire\n",
    "            elseif (capacite1  > 0)\n",
    "                UB = UB + cout[i]*(capacite1/poids[i])\n",
    "                list_xi[i] = (capacite1/poids[i])\n",
    "                capacite1 = 0\n",
    "                elem_fract = i\n",
    "            end\n",
    "        end\n",
    "        \n",
    "        return UB,LB,elem_fract ,list_xi\n",
    "    end\n",
    "    \n",
    "    # sinon on calcul prixtotal et capacite restante   \n",
    "    for i in 1:length(listobjs)\n",
    "        if listvals[i] == 1\n",
    "            list_xi[listobjs[i]] = 1\n",
    "            capacite1 -= poids[listobjs[i]]\n",
    "            prixtotal += cout[listobjs[i]]\n",
    "        end\n",
    "    end\n",
    "    \n",
    "    LB = prixtotal\n",
    "    UB = prixtotal\n",
    "    elem_fract = 1\n",
    "    # On parcourt les objets dans l'ordre du meilleur ration qui ne sont pas encore pris\n",
    "    # jusqu'à ce que la capacité soit atteinte.\n",
    "    for i in list_best_ratios\n",
    "        if !(i in listobjs)\n",
    "            # Si l'objet entier peut être pris\n",
    "            if (capacite1 - poids[i] >= 0)\n",
    "                capacite1 = capacite1 - poids[i]\n",
    "                list_xi[i] = 1\n",
    "                UB = UB + cout[i]\n",
    "                LB = LB + cout[i]\n",
    "            # Sinon on prend une portion et c'est lui l'element le plus fractionnaire\n",
    "            elseif (capacite1  > 0)\n",
    "                UB = UB + cout[i]*(capacite1/poids[i]) \n",
    "                list_xi[i] = (capacite1/poids[i])\n",
    "                elem_fract = i\n",
    "                capacite1 = 0\n",
    "            end\n",
    "        end\n",
    "    end\n",
    "    \n",
    "    return UB,LB,elem_fract,list_xi\n",
    "end\n",
    "Borne2(14, [5;7;4;3], [16;22;12;8], [0], [0], [1;2;3;4])"
   ]
  },
  {
   "cell_type": "code",
   "execution_count": 23,
   "metadata": {},
   "outputs": [
    {
     "name": "stdout",
     "output_type": "stream",
     "text": [
      "\n",
      "\u001b[32m\u001b[1mtest  : InstancesKnapSack/uncorrelated_span/knapPI_11_20_1000_1_-1428.opb.txt:\u001b[22m\u001b[39m\n",
      "\n",
      "The prices are: 114, 38, 133, 95, 612, 171, 918, 408, 714, 510, 114, 76, 57, 204, 1020, 816, 190, 510, 114, 714\n",
      "The weights are: 582, 194, 679, 485, 396, 873, 594, 264, 462, 330, 582, 388, 291, 132, 660, 528, 970, 330, 582, 462\n",
      "The capacity is :970\n",
      "--- temps de calcul (Programmation Dynamique) : 0.0019998550415039062\n",
      "\n",
      "--- temps de calcul (Branch & Bound: Borne 1) : 0.015000104904174805\n",
      "\n",
      "--- temps de calcul (Branch & Bound: Borne 2) : 0.0009999275207519531\n",
      "\n",
      "\u001b[32m\u001b[1mtest  : InstancesKnapSack/almost_strongly_correlated/knapPI_5_100_1000_1_-2295.opb.txt:\u001b[22m\u001b[39m\n",
      "\n",
      "The prices are: 585, 426, 347, 521, 423, 894, 142, 946, 1054, 353, 108, 1001, 221, 194, 839, 673, 815, 983, 466, 1083, 398, 534, 781, 173, 973, 239, 957, 244, 1096, 630, 299, 377, 197, 820, 343, 208, 223, 170, 198, 699, 744, 366, 1071, 996, 313, 848, 586, 1023, 128, 773, 639, 653, 566, 146, 809, 654, 292, 824, 829, 1087, 191, 439, 650, 295, 965, 779, 669, 1037, 822, 752, 222, 531, 607, 684, 952, 741, 1092, 824, 386, 911, 958, 762, 189, 278, 287, 718, 360, 945, 293, 360, 613, 986, 631, 950, 395, 898, 492, 430, 398, 890\n",
      "The weights are: 485, 326, 248, 421, 322, 795, 43, 845, 955, 252, 9, 901, 122, 94, 738, 574, 715, 882, 367, 984, 299, 433, 682, 72, 874, 138, 856, 145, 995, 529, 199, 277, 97, 719, 242, 107, 122, 70, 98, 600, 645, 267, 972, 895, 213, 748, 487, 923, 29, 674, 540, 554, 467, 46, 710, 553, 191, 724, 730, 988, 90, 340, 549, 196, 865, 678, 570, 936, 722, 651, 123, 431, 508, 585, 853, 642, 992, 725, 286, 812, 859, 663, 88, 179, 187, 619, 261, 846, 192, 261, 514, 886, 530, 849, 294, 799, 391, 330, 298, 790\n",
      "The capacity is :995"
     ]
    },
    {
     "name": "stdout",
     "output_type": "stream",
     "text": [
      "\n",
      "--- temps de calcul (Programmation Dynamique) : 0.015999794006347656\n",
      "\n",
      "--- temps de calcul (Branch & Bound: Borne 1) : 0.05300021171569824\n",
      "\n",
      "--- temps de calcul (Branch & Bound: Borne 2) : 0.05799984931945801\n",
      "\n",
      "\u001b[32m\u001b[1mtest  : InstancesKnapSack/circle/knapPI_16_100_1000_1_-4400.opb.txt:\u001b[22m\u001b[39m\n",
      "\n",
      "The prices are: 403, 886, 814, 1151, 983, 629, 848, 1074, 839, 819, 1062, 762, 994, 950, 111, 914, 737, 1049, 1152, 1110, 973, 474, 824, 1013, 963, 1101, 1024, 816, 1063, 575, 1153, 447, 1117, 910, 1017, 931, 909, 1126, 1027, 871, 1052, 891, 375, 1131, 318, 705, 1048, 908, 1026, 1061, 865, 493, 742, 978, 575, 877, 339, 1078, 592, 1019, 1066, 717, 690, 800, 855, 1006, 1082, 614, 638, 1090, 441, 780, 764, 337, 871, 1005, 687, 1108, 205, 875, 1109, 395, 554, 600, 173, 860, 815, 816, 759, 1002, 708, 582, 786, 1135, 881, 572, 1033, 727, 1151, 613\n",
      "The weights are: 94, 506, 416, 992, 649, 237, 457, 815, 446, 422, 791, 359, 667, 598, 7, 544, 334, 766, 994, 893, 633, 131, 428, 700, 617, 874, 720, 419, 794, 196, 997, 116, 908, 539, 707, 569, 537, 931, 726, 487, 772, 513, 81, 943, 58, 303, 764, 536, 724, 789, 479, 142, 339, 641, 196, 494, 66, 824, 208, 711, 800, 314, 289, 401, 466, 689, 833, 225, 244, 849, 113, 379, 361, 65, 486, 686, 286, 889, 24, 491, 891, 90, 181, 214, 17, 472, 418, 419, 356, 682, 306, 201, 385, 952, 500, 194, 737, 324, 992, 224\n",
      "The capacity is :997\n",
      "--- temps de calcul (Programmation Dynamique) : 0.002000093460083008\n",
      "\n",
      "--- temps de calcul (Branch & Bound: Borne 1) : 0.0009999275207519531\n",
      "\n",
      "--- temps de calcul (Branch & Bound: Borne 2) : 0.026000022888183594\n",
      "\n",
      "\u001b[32m\u001b[1mtest  : InstancesKnapSack/inverse_strongly_correlated/knapPI_4_50_1000_1_-994.opb.txt:\u001b[22m\u001b[39m\n",
      "\n",
      "The prices are: 485, 94, 326, 506, 248, 416, 421, 992, 322, 649, 795, 237, 43, 457, 845, 815, 955, 446, 252, 422, 9, 791, 901, 359, 122, 667, 94, 598, 738, 7, 574, 544, 715, 334, 882, 766, 367, 994, 984, 893, 299, 633, 433, 131, 682, 428, 72, 700, 874, 617\n",
      "The weights are: 585, 194, 426, 606, 348, 516, 521, 1092, 422, 749, 895, 337, 143, 557, 945, 915, 1055, 546, 352, 522, 109, 891, 1001, 459, 222, 767, 194, 698, 838, 107, 674, 644, 815, 434, 982, 866, 467, 1094, 1084, 993, 399, 733, 533, 231, 782, 528, 172, 800, 974, 717\n",
      "The capacity is :1094\n",
      "--- temps de calcul (Programmation Dynamique) : 0.0010001659393310547\n",
      "\n",
      "--- temps de calcul (Branch & Bound: Borne 1) : 0.0009999275207519531\n",
      "\n",
      "--- temps de calcul (Branch & Bound: Borne 2) : 0.0\n",
      "\n",
      "\u001b[32m\u001b[1mtest  : InstancesKnapSack/inverse_strongly_correlated/knapPI_4_100_1000_1_-997.opb.txt:\u001b[22m\u001b[39m\n",
      "\n",
      "The prices are: 485, 94, 326, 506, 248, 416, 421, 992, 322, 649, 795, 237, 43, 457, 845, 815, 955, 446, 252, 422, 9, 791, 901, 359, 122, 667, 94, 598, 738, 7, 574, 544, 715, 334, 882, 766, 367, 994, 984, 893, 299, 633, 433, 131, 682, 428, 72, 700, 874, 617, 138, 874, 856, 720, 145, 419, 995, 794, 529, 196, 199, 997, 277, 116, 97, 908, 719, 539, 242, 707, 107, 569, 122, 537, 70, 931, 98, 726, 600, 487, 645, 772, 267, 513, 972, 81, 895, 943, 213, 58, 748, 303, 487, 764, 923, 536, 29, 724, 674, 789\n",
      "The weights are: 585, 194, 426, 606, 348, 516, 521, 1092, 422, 749, 895, 337, 143, 557, 945, 915, 1055, 546, 352, 522, 109, 891, 1001, 459, 222, 767, 194, 698, 838, 107, 674, 644, 815, 434, 982, 866, 467, 1094, 1084, 993, 399, 733, 533, 231, 782, 528, 172, 800, 974, 717, 238, 974, 956, 820, 245, 519, 1095, 894, 629, 296, 299, 1097, 377, 216, 197, 1008, 819, 639, 342, 807, 207, 669, 222, 637, 170, 1031, 198, 826, 700, 587, 745, 872, 367, 613, 1072, 181, 995, 1043, 313, 158, 848, 403, 587, 864, 1023, 636, 129, 824, 774, 889\n",
      "The capacity is :1097\n",
      "--- temps de calcul (Programmation Dynamique) : 0.0019998550415039062\n",
      "\n",
      "--- temps de calcul (Branch & Bound: Borne 1) : 0.0\n",
      "\n",
      "--- temps de calcul (Branch & Bound: Borne 2) : 0.0\n",
      "\n",
      "\u001b[32m\u001b[1mtest  : InstancesKnapSack/similar_weights/knapPI_9_100_1000_1_-995.opb.txt:\u001b[22m\u001b[39m\n",
      "\n",
      "The prices are: 485, 326, 248, 421, 322, 795, 43, 845, 955, 252, 9, 901, 122, 94, 738, 574, 715, 882, 367, 984, 299, 433, 682, 72, 874, 138, 856, 145, 995, 529, 199, 277, 97, 719, 242, 107, 122, 70, 98, 600, 645, 267, 972, 895, 213, 748, 487, 923, 29, 674, 540, 554, 467, 46, 710, 553, 191, 724, 730, 988, 90, 340, 549, 196, 865, 678, 570, 936, 722, 651, 123, 431, 508, 585, 853, 642, 992, 725, 286, 812, 859, 663, 88, 179, 187, 619, 261, 846, 192, 261, 514, 886, 530, 849, 294, 799, 391, 330, 298, 790\n",
      "The weights are: 100093, 100005, 100015, 100091, 100048, 100036, 100056, 100014, 100045, 100021, 100090, 100058, 100066, 100097, 100006, 100043, 100033, 100065, 100093, 100092, 100032, 100030, 100027, 100099, 100016, 100073, 100019, 100018, 100093, 100095, 100096, 100015, 100007, 100038, 100006, 100068, 100036, 100030, 100025, 100086, 100071, 100012, 100080, 100042, 100057, 100002, 100063, 100035, 100023, 100088, 100078, 100041, 100038, 100040, 100095, 100093, 100065, 100023, 100007, 100010, 100099, 100013, 100088, 100000, 100065, 100088, 100032, 100024, 100043, 100048, 100012, 100078, 100060, 100064, 100085, 100085, 100085, 100088, 100023, 100090, 100090, 100089, 100080, 100013, 100016, 100071, 100017, 100018, 100055, 100081, 100005, 100000, 100084, 100051, 100099, 100093, 100036, 100023, 100091, 100023\n",
      "The capacity is :100099\n"
     ]
    },
    {
     "name": "stdout",
     "output_type": "stream",
     "text": [
      "--- temps de calcul (Programmation Dynamique) : 0.22600007057189941\n",
      "\n",
      "--- temps de calcul (Branch & Bound: Borne 1) : 0.004999876022338867\n",
      "\n",
      "--- temps de calcul (Branch & Bound: Borne 2) : 0.003000020980834961\n",
      "\n",
      "\u001b[32m\u001b[1mtest  : InstancesKnapSack/subset_sum/knapPI_6_100_1000_1_-997.opb.txt:\u001b[22m\u001b[39m\n",
      "\n",
      "The prices are: 485, 94, 326, 506, 248, 416, 421, 992, 322, 649, 795, 237, 43, 457, 845, 815, 955, 446, 252, 422, 9, 791, 901, 359, 122, 667, 94, 598, 738, 7, 574, 544, 715, 334, 882, 766, 367, 994, 984, 893, 299, 633, 433, 131, 682, 428, 72, 700, 874, 617, 138, 874, 856, 720, 145, 419, 995, 794, 529, 196, 199, 997, 277, 116, 97, 908, 719, 539, 242, 707, 107, 569, 122, 537, 70, 931, 98, 726, 600, 487, 645, 772, 267, 513, 972, 81, 895, 943, 213, 58, 748, 303, 487, 764, 923, 536, 29, 724, 674, 789\n",
      "The weights are: 485, 94, 326, 506, 248, 416, 421, 992, 322, 649, 795, 237, 43, 457, 845, 815, 955, 446, 252, 422, 9, 791, 901, 359, 122, 667, 94, 598, 738, 7, 574, 544, 715, 334, 882, 766, 367, 994, 984, 893, 299, 633, 433, 131, 682, 428, 72, 700, 874, 617, 138, 874, 856, 720, 145, 419, 995, 794, 529, 196, 199, 997, 277, 116, 97, 908, 719, 539, 242, 707, 107, 569, 122, 537, 70, 931, 98, 726, 600, 487, 645, 772, 267, 513, 972, 81, 895, 943, 213, 58, 748, 303, 487, 764, 923, 536, 29, 724, 674, 789\n",
      "The capacity is :997\n",
      "--- temps de calcul (Programmation Dynamique) : 0.0010001659393310547\n",
      "\n",
      "--- temps de calcul (Branch & Bound: Borne 1) : 0.009999990463256836\n",
      "\n",
      "--- temps de calcul (Branch & Bound: Borne 2) : 0.06299996376037598\n",
      "\n",
      "\u001b[32m\u001b[1mtest  : InstancesKnapSack/uncorrelated/knapPI_1_100_1000_1_-9147.opb.txt:\u001b[22m\u001b[39m\n",
      "\n",
      "The prices are: 94, 506, 416, 992, 649, 237, 457, 815, 446, 422, 791, 359, 667, 598, 7, 544, 334, 766, 994, 893, 633, 131, 428, 700, 617, 874, 720, 419, 794, 196, 997, 116, 908, 539, 707, 569, 537, 931, 726, 487, 772, 513, 81, 943, 58, 303, 764, 536, 724, 789, 479, 142, 339, 641, 196, 494, 66, 824, 208, 711, 800, 314, 289, 401, 466, 689, 833, 225, 244, 849, 113, 379, 361, 65, 486, 686, 286, 889, 24, 491, 891, 90, 181, 214, 17, 472, 418, 419, 356, 682, 306, 201, 385, 952, 500, 194, 737, 324, 992, 224\n",
      "The weights are: 485, 326, 248, 421, 322, 795, 43, 845, 955, 252, 9, 901, 122, 94, 738, 574, 715, 882, 367, 984, 299, 433, 682, 72, 874, 138, 856, 145, 995, 529, 199, 277, 97, 719, 242, 107, 122, 70, 98, 600, 645, 267, 972, 895, 213, 748, 487, 923, 29, 674, 540, 554, 467, 46, 710, 553, 191, 724, 730, 988, 90, 340, 549, 196, 865, 678, 570, 936, 722, 651, 123, 431, 508, 585, 853, 642, 992, 725, 286, 812, 859, 663, 88, 179, 187, 619, 261, 846, 192, 261, 514, 886, 530, 849, 294, 799, 391, 330, 298, 790\n",
      "The capacity is :995\n",
      "--- temps de calcul (Programmation Dynamique) : 0.002000093460083008\n",
      "\n",
      "--- temps de calcul (Branch & Bound: Borne 1) : 0.003000020980834961\n",
      "\n",
      "--- temps de calcul (Branch & Bound: Borne 2) : 0.010999917984008789\n",
      "\n",
      "\u001b[32m\u001b[1mtest  : InstancesKnapSack/weakly_correlated/knapPI_2_100_1000_1_-1514.opb.txt:\u001b[22m\u001b[39m\n",
      "\n",
      "The prices are: 482, 257, 286, 517, 404, 713, 45, 924, 873, 160, 1, 838, 40, 58, 676, 627, 766, 862, 405, 923, 379, 461, 612, 133, 813, 97, 908, 165, 996, 623, 220, 298, 157, 723, 144, 48, 129, 148, 35, 644, 632, 272, 1040, 977, 312, 778, 567, 965, 1, 616, 569, 628, 493, 76, 733, 575, 288, 775, 723, 912, 64, 354, 565, 210, 922, 775, 566, 934, 626, 742, 194, 485, 483, 617, 876, 653, 896, 652, 220, 727, 900, 563, 56, 157, 280, 537, 284, 920, 124, 239, 459, 931, 504, 910, 382, 795, 485, 351, 289, 865\n",
      "The weights are: "
     ]
    },
    {
     "name": "stdout",
     "output_type": "stream",
     "text": [
      "485, 326, 248, 421, 322, 795, 43, 845, 955, 252, 9, 901, 122, 94, 738, 574, 715, 882, 367, 984, 299, 433, 682, 72, 874, 138, 856, 145, 995, 529, 199, 277, 97, 719, 242, 107, 122, 70, 98, 600, 645, 267, 972, 895, 213, 748, 487, 923, 29, 674, 540, 554, 467, 46, 710, 553, 191, 724, 730, 988, 90, 340, 549, 196, 865, 678, 570, 936, 722, 651, 123, 431, 508, 585, 853, 642, 992, 725, 286, 812, 859, 663, 88, 179, 187, 619, 261, 846, 192, 261, 514, 886, 530, 849, 294, 799, 391, 330, 298, 790\n",
      "The capacity is :995\n",
      "--- temps de calcul (Programmation Dynamique) : 0.03399991989135742\n",
      "\n",
      "--- temps de calcul (Branch & Bound: Borne 1) : 0.017000198364257812\n",
      "\n",
      "--- temps de calcul (Branch & Bound: Borne 2) : 0.01699995994567871\n",
      "\n",
      "\u001b[32m\u001b[1mtest  : InstancesKnapSack/weakly_correlated_span/knapPI_12_100_1000_1_-970.opb.txt:\u001b[22m\u001b[39m\n",
      "\n",
      "The prices are: 582, 194, 679, 485, 312, 873, 468, 208, 364, 260, 582, 388, 291, 104, 520, 416, 970, 260, 582, 364, 776, 194, 468, 970, 312, 260, 156, 485, 416, 364, 582, 388, 468, 679, 52, 156, 312, 520, 52, 520, 468, 260, 468, 582, 388, 291, 468, 485, 312, 104, 468, 194, 97, 776, 388, 468, 416, 104, 104, 582, 485, 208, 388, 520, 104, 260, 364, 582, 468, 260, 208, 156, 679, 679, 97, 582, 97, 156, 679, 520, 208, 291, 776, 52, 291, 468, 156, 520, 468, 52, 873, 194, 520, 873, 873, 104, 873, 416, 776, 312\n",
      "The weights are: 582, 194, 679, 485, 396, 873, 594, 264, 462, 330, 582, 388, 291, 132, 660, 528, 970, 330, 582, 462, 776, 194, 594, 970, 396, 330, 198, 485, 528, 462, 582, 388, 594, 679, 66, 198, 396, 660, 66, 660, 594, 330, 594, 582, 388, 291, 594, 485, 396, 132, 594, 194, 97, 776, 388, 594, 528, 132, 132, 582, 485, 264, 388, 660, 132, 330, 462, 582, 594, 330, 264, 198, 679, 679, 97, 582, 97, 198, 679, 660, 264, 291, 776, 66, 291, 594, 198, 660, 594, 66, 873, 194, 660, 873, 873, 132, 873, 528, 776, 396\n",
      "The capacity is :970\n",
      "--- temps de calcul (Programmation Dynamique) : 0.04200005531311035\n",
      "\n",
      "--- temps de calcul (Branch & Bound: Borne 1) : 0.0009999275207519531\n",
      "\n",
      "--- temps de calcul (Branch & Bound: Borne 2) : 0.0\n",
      "\n",
      "\u001b[32m\u001b[1mtest  : InstancesKnapSack/multiple_strongly_correlated/knapPI_14_20_1000_1_-1794.opb.txt:\u001b[22m\u001b[39m\n",
      "\n",
      "The prices are: 294, 706, 616, 1192, 849, 437, 657, 1015, 646, 622, 991, 559, 867, 798, 207, 744, 534, 966, 1194, 1093\n"
     ]
    },
    {
     "name": "stdout",
     "output_type": "stream",
     "text": [
      "The weights are: 94, 506, 416, 992, 649, 237, 457, 815, 446, 422, 791, 359, 667, 598, 7, 544, 334, 766, 994, 893\n",
      "The capacity is :994\n",
      "--- temps de calcul (Programmation Dynamique) : 0.011999845504760742\n",
      "\n",
      "--- temps de calcul (Branch & Bound: Borne 1) : 0.002000093460083008\n",
      "\n",
      "--- temps de calcul (Branch & Bound: Borne 2) : 0.002000093460083008\n",
      "\n",
      "\u001b[32m\u001b[1mtest  : InstancesKnapSack/profit_ceiling/knapPI_15_20_1000_1_-999.opb.txt:\u001b[22m\u001b[39m\n",
      "\n",
      "The prices are: 96, 507, 417, 993, 651, 237, 459, 816, 447, 423, 792, 360, 669, 600, 9, 546, 336, 768, 996, 894\n",
      "The weights are: 94, 506, 416, 992, 649, 237, 457, 815, 446, 422, 791, 359, 667, 598, 7, 544, 334, 766, 994, 893\n",
      "The capacity is :994\n",
      "--- temps de calcul (Programmation Dynamique) : 0.0009999275207519531\n",
      "\n",
      "--- temps de calcul (Branch & Bound: Borne 1) : 0.002000093460083008\n",
      "\n",
      "--- temps de calcul (Branch & Bound: Borne 2) : 0.004999876022338867\n",
      "\n",
      "\u001b[32m\u001b[1mtest  : InstancesKnapSack/profit_ceiling/knapPI_15_20_1000_3_-1002.opb.txt:\u001b[22m\u001b[39m\n",
      "\n",
      "The prices are: 96, 507, 417, 993, 651, 237, 459, 816, 447, 423, 792, 360, 669, 600, 9, 546, 336, 768, 996, 894, 948, 819, 420, 801, 408, 942, 72, 561, 795, 585, 597, 696, 465, 744, 171, 354, 858, 183, 888, 606, 447, 483, 426, 609, 516, 999, 36, 306, 495, 744, 402, 33, 612, 537, 336, 810, 735, 600, 429, 966\n",
      "The weights are: 94, 506, 416, 992, 649, 237, 457, 815, 446, 422, 791, 359, 667, 598, 7, 544, 334, 766, 994, 893, 946, 819, 420, 800, 406, 941, 70, 560, 795, 583, 595, 695, 463, 742, 171, 352, 858, 182, 887, 606, 447, 483, 425, 609, 514, 998, 34, 304, 495, 743, 400, 32, 612, 535, 336, 809, 735, 599, 427, 966\n",
      "The capacity is :998\n",
      "--- temps de calcul (Programmation Dynamique) : 0.002000093460083008\n",
      "\n",
      "--- temps de calcul (Branch & Bound: Borne 1) : 0.006999969482421875\n",
      "\n",
      "--- temps de calcul (Branch & Bound: Borne 2) : 0.006000041961669922\n"
     ]
    }
   ],
   "source": [
    "function solveKnapInstance(filename,borne,affichage)\n",
    "    price, weight, capacity = readKnaptxtInstance(filename)\n",
    "    \n",
    "    # Initialisation des structures de données\n",
    "    nodes = [Noeud([], [], Inf,0,0)]  # Commencez avec le noeud racine\n",
    "    BestProfit = -1.0\n",
    "    Bestsol = Float64[]\n",
    "    \n",
    "    trParentnodes = Int64[]\n",
    "    trChildnodes = Int64[]\n",
    "    trNamenodes = []\n",
    "\n",
    "    current_node_number = 0\n",
    "    stop = false\n",
    "\n",
    "    while !stop\n",
    "        if affichage \n",
    "            println(\"\\nNode number \", current_node_number, \": \\n---------------\\n\")\n",
    "        end\n",
    "        # Sélection et mise à jour du nœud actuel à partir de la liste des noeuds\n",
    "        stop, current_node = exploreNextNode_bestUB!(nodes)  # Déterminez le noeud suivant avec la plus grande BS\n",
    "        if stop\n",
    "            break  # Sortir du boucle si aucun noeud n'est à explorer\n",
    "        end\n",
    "\n",
    "        #liste des obj et valeur pour ce noeud\n",
    "        listobjs = current_node.vars\n",
    "        listvals = current_node.vals\n",
    "\n",
    "        #Update the graphical tree\n",
    "        push!(trNamenodes, current_node_number +1)\n",
    "        if length(trNamenodes) >= 2\n",
    "            push!(trParentnodes, current_node.num_noued_pere + 1)\n",
    "            push!(trChildnodes, current_node_number+1)\n",
    "        end\n",
    "        \n",
    "        if affichage\n",
    "            println(\"\\n******\\n\\nlistobjs = \", listobjs, \"\\n\\nlistvals =\", listvals)\n",
    "        end\n",
    "        \n",
    "        # Calcul de la borne sup et inf pour ce noeud\n",
    "        if (borne == \"borne1\")\n",
    "            UB,LB,list_xi = Borne1(capacity,weight, price, listvals, listobjs, best_ratio(price, weight))\n",
    "        elseif (borne == \"borne2\")\n",
    "            UB,LB,_,list_xi = Borne2(capacity,weight, price, listvals, listobjs, best_ratio(price, weight))\n",
    "        end\n",
    "        \n",
    "        if affichage\n",
    "            println(\"\\n******\\n\\nUB = \", UB, \"\\n\\nLB =\", LB)\n",
    "        end\n",
    "        \n",
    "        # Déterminer si le noeud est sondable\n",
    "        TA , TO , TR,Bestsol,BestProfit = testSondability_LP(affichage,UB,LB,list_xi,weight,listobjs, listvals,capacity, BestProfit, Bestsol)\n",
    "        is_node_sondable = TA || TO || TR \n",
    "\n",
    "        if !is_node_sondable\n",
    "            node_including_obj, node_excluding_obj = separateNodeThenchooseNext_bestUB!(current_node, best_ratio(price, weight), price, weight, capacity,borne,current_node_number)\n",
    "            push!(nodes, node_including_obj)\n",
    "            push!(nodes, node_excluding_obj)\n",
    "        end\n",
    "\n",
    "        current_node_number += 1\n",
    "    end\n",
    "    if affichage\n",
    "        println(\"\\n******\\n\\nOptimal value = \", BestProfit, \"\\n\\nOptimal x=\", Bestsol)\n",
    "    end\n",
    "    return BestProfit, Bestsol, trParentnodes, trChildnodes, trNamenodes,current_node_number\n",
    "end\n",
    "INSTANCE = \"InstancesKnapSack/test.opb.txt\"\n",
    "solveKnapInstance(INSTANCE,\"borne2\",false)\n",
    "\n",
    "\n",
    "## On compare les resultats issues des deux resoltions dynamique et branch & bound \n",
    "tests = [\n",
    "\"InstancesKnapSack/uncorrelated_span/knapPI_11_20_1000_1_-1428.opb.txt\",\n",
    "\"InstancesKnapSack/almost_strongly_correlated/knapPI_5_100_1000_1_-2295.opb.txt\",\n",
    "\"InstancesKnapSack/circle/knapPI_16_100_1000_1_-4400.opb.txt\",\n",
    "\"InstancesKnapSack/inverse_strongly_correlated/knapPI_4_50_1000_1_-994.opb.txt\",\n",
    "\"InstancesKnapSack/inverse_strongly_correlated/knapPI_4_100_1000_1_-997.opb.txt\",\n",
    "\"InstancesKnapSack/similar_weights/knapPI_9_100_1000_1_-995.opb.txt\",\n",
    "\"InstancesKnapSack/subset_sum/knapPI_6_100_1000_1_-997.opb.txt\",\n",
    "\"InstancesKnapSack/uncorrelated/knapPI_1_100_1000_1_-9147.opb.txt\",\n",
    "\"InstancesKnapSack/weakly_correlated/knapPI_2_100_1000_1_-1514.opb.txt\",\n",
    "\"InstancesKnapSack/weakly_correlated_span/knapPI_12_100_1000_1_-970.opb.txt\",\n",
    "\"InstancesKnapSack/multiple_strongly_correlated/knapPI_14_20_1000_1_-1794.opb.txt\",\n",
    "\"InstancesKnapSack/profit_ceiling/knapPI_15_20_1000_1_-999.opb.txt\",\n",
    "\"InstancesKnapSack/profit_ceiling/knapPI_15_20_1000_3_-1002.opb.txt\"\n",
    "]\n",
    "\n",
    "for test in tests \n",
    "    printstyled(\"\\ntest  : \",test, \":\\n\\n\", bold=true, color=:green)\n",
    "    debut = time()\n",
    "    BestProfit, Bestsol = SolveKnapInstance1(test)\n",
    "\n",
    "    fin = time()\n",
    "    temps_calcul_dynamique = fin-debut\n",
    "\n",
    "    debut = time()\n",
    "    BestProfit, Bestsol = solveKnapInstance(test,\"borne2\",false)\n",
    "    fin = time()\n",
    "    temps_calcul_bab_1 = fin-debut\n",
    "    \n",
    "    debut = time()\n",
    "    BestProfit, Bestsol = solveKnapInstance(test,\"borne1\",false)\n",
    "    fin = time()\n",
    "    temps_calcul_bab_2 = fin-debut\n",
    "    \n",
    "    println(\"--- temps de calcul (Programmation Dynamique) : \",temps_calcul_dynamique)\n",
    "    \n",
    "    println(\"\\n--- temps de calcul (Branch & Bound: Borne 1) : \",temps_calcul_bab_1)\n",
    "    \n",
    "    println(\"\\n--- temps de calcul (Branch & Bound: Borne 2) : \",temps_calcul_bab_2)\n",
    "\n",
    "end"
   ]
  },
  {
   "cell_type": "markdown",
   "metadata": {},
   "source": [
    "## Bonus \n"
   ]
  },
  {
   "cell_type": "code",
   "execution_count": 46,
   "metadata": {},
   "outputs": [
    {
     "name": "stdout",
     "output_type": "stream",
     "text": [
      "Le plus court chemin entre A et F est A-B-C-D-F : [0.0, 3.0, 7.0, 9.0, 5.0, 8.0, Inf]\n",
      "A -> B = 3.0 passant par A\n",
      "A -> C = 7.0 passant par B\n",
      "A -> D = 9.0 passant par C\n",
      "A -> E = 5.0 passant par A\n",
      "A -> F = 8.0 passant par E\n",
      "Ce chemin a un coût de 12 : [0, 1, 2, 3, 1, 5, 0]\n"
     ]
    }
   ],
   "source": [
    "function bellman_ford(graph, source)\n",
    "    n = size(graph)[1]\n",
    "    fk = zeros(n)\n",
    "    fk_1 = zeros(n)\n",
    "    predecessors = fill(0, n)\n",
    "\n",
    "    for i in 1:n\n",
    "        fk_1[i] = Inf\n",
    "    end\n",
    "    fk_1[source] = 0\n",
    "    l = 0\n",
    "    while l <= n\n",
    "        l += 1\n",
    "        for (i, j, k) in graph\n",
    "            \n",
    "            fk = copy(fk_1)\n",
    "            if fk[i] + k < fk[j]\n",
    "                fk_1[j] = fk[i] +k \n",
    "                predecessors[j] = i\n",
    "            end \n",
    "        end \n",
    "        if fk == fk_1\n",
    "            break\n",
    "        end\n",
    "    end\n",
    "    return fk, predecessors\n",
    "end \n",
    "\n",
    "# Exemple de graphe\n",
    "graphe = [(1, 2, 3), (1, 5, 5), (5, 2, -1), (2, 3, 4), (3, 4, 2), (5, 4, 9), (5, 6, 3)]\n",
    "\n",
    "\n",
    "f, pred = bellman_ford(graphe, 1)\n",
    "println(\"Le plus court chemin entre A et F est A-B-C-D-F : \", f)\n",
    "couple = [\"A\",\"B\",\"C\",\"D\",\"E\",\"F\"] \n",
    "for i in 2:length(f)-1\n",
    "    println(couple[1], \" -> \", couple[i], \" = \", f[i], \" passant par \",couple[pred[i]])\n",
    "end \n",
    "\n",
    "println(\"Ce chemin a un coût de 12 : \", pred)\n",
    "\n",
    "\n",
    "\n"
   ]
  }
 ],
 "metadata": {
  "kernelspec": {
   "display_name": "Julia 1.9.4",
   "language": "julia",
   "name": "julia-1.9"
  },
  "language_info": {
   "file_extension": ".jl",
   "mimetype": "application/julia",
   "name": "julia",
   "version": "1.9.4"
  }
 },
 "nbformat": 4,
 "nbformat_minor": 4
}
